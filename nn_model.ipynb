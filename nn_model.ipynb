{
 "metadata": {
  "language_info": {
   "codemirror_mode": {
    "name": "ipython",
    "version": 3
   },
   "file_extension": ".py",
   "mimetype": "text/x-python",
   "name": "python",
   "nbconvert_exporter": "python",
   "pygments_lexer": "ipython3",
   "version": "3.8.3-final"
  },
  "orig_nbformat": 2,
  "kernelspec": {
   "name": "python3",
   "display_name": "Python 3"
  }
 },
 "nbformat": 4,
 "nbformat_minor": 2,
 "cells": [
  {
   "cell_type": "code",
   "execution_count": 3,
   "metadata": {},
   "outputs": [],
   "source": [
    "import matplotlib.pyplot as plt\n",
    "%matplotlib inline\n",
    "import pandas as pd\n",
    "import numpy as np\n",
    "import PIL\n",
    "from PIL import Image\n",
    "from scipy import ndimage as ndi\n",
    "import cv2\n",
    "import os\n",
    "from os import listdir\n",
    "from sklearn.utils import shuffle\n",
    "\n",
    "import keras\n",
    "# import keras_metrics\n",
    "from keras.models import Sequential, load_model\n",
    "from keras.layers import Dense, Activation, Conv2D, MaxPooling2D, Flatten, Dropout, BatchNormalization\n",
    "from keras.optimizers import SGD\n",
    "from keras import regularizers\n",
    "from keras.callbacks import ModelCheckpoint"
   ]
  },
  {
   "cell_type": "code",
   "execution_count": 4,
   "metadata": {},
   "outputs": [
    {
     "output_type": "stream",
     "name": "stdout",
     "text": [
      "16\n"
     ]
    }
   ],
   "source": [
    "directory_root = \"/Users/Tara8082/GIT/ProjectGIT/project_5/PlantVillage\"\n",
    "print(len(listdir(directory_root)))"
   ]
  },
  {
   "cell_type": "code",
   "execution_count": 5,
   "metadata": {},
   "outputs": [],
   "source": [
    "def convert_image_to_array(image_dir):\n",
    "    try:\n",
    "        image = cv2.imread(image_dir)\n",
    "        if image is not None :\n",
    "            image = cv2.resize(image, default_image_size)   \n",
    "            return img_to_array(image)\n",
    "        else :\n",
    "            return np.array([])\n",
    "    except Exception as e:\n",
    "        print(f\"Error : {e}\")\n",
    "        return None"
   ]
  },
  {
   "cell_type": "code",
   "execution_count": 6,
   "metadata": {},
   "outputs": [
    {
     "output_type": "stream",
     "name": "stdout",
     "text": [
      "[INFO] Loading images ...\n",
      "[INFO] Image loading completed\n"
     ]
    }
   ],
   "source": [
    "image_list, label_list = [], []\n",
    "try:\n",
    "    print(\"[INFO] Loading images ...\")\n",
    "    root_dir = listdir(directory_root)\n",
    "    for directory in root_dir :\n",
    "        # remove .DS_Store from list\n",
    "        if directory == \".DS_Store\" :\n",
    "            root_dir.remove(directory)\n",
    "\n",
    "    for plant_folder in root_dir :\n",
    "        plant_disease_folder_list = listdir(f\"{directory_root}/{plant_folder}\")\n",
    "                \n",
    "        for single_plant_disease_image in plant_disease_folder_list :\n",
    "            if single_plant_disease_image == \".DS_Store\" :\n",
    "                plant_disease_folder_list.remove(single_plant_disease_image)\n",
    "\n",
    "        for image in plant_disease_folder_list:\n",
    "            image_directory = f\"{directory_root}/{plant_folder}/{image}\"\n",
    "            if image_directory.endswith(\".jpg\") == True or image_directory.endswith(\".JPG\") == True:\n",
    "                image_list.append(image_directory)\n",
    "                label_list.append(plant_folder)\n",
    "    print(\"[INFO] Image loading completed\")  \n",
    "except Exception as e:\n",
    "    print(f\"Error : {e}\")"
   ]
  },
  {
   "cell_type": "code",
   "execution_count": 7,
   "metadata": {},
   "outputs": [
    {
     "output_type": "stream",
     "name": "stdout",
     "text": [
      "                                          image_path           label\n0  /Users/Tara8082/GIT/ProjectGIT/project_5/Plant...  Tomato_healthy\n1  /Users/Tara8082/GIT/ProjectGIT/project_5/Plant...  Tomato_healthy\n2  /Users/Tara8082/GIT/ProjectGIT/project_5/Plant...  Tomato_healthy\n3  /Users/Tara8082/GIT/ProjectGIT/project_5/Plant...  Tomato_healthy\n4  /Users/Tara8082/GIT/ProjectGIT/project_5/Plant...  Tomato_healthy\n20636\n"
     ]
    }
   ],
   "source": [
    "img_info = pd.DataFrame({'image_path':image_list,'label':label_list})\n",
    "print(img_info.head())\n",
    "print(len(img_info))"
   ]
  },
  {
   "cell_type": "code",
   "execution_count": 8,
   "metadata": {},
   "outputs": [
    {
     "output_type": "execute_result",
     "data": {
      "text/plain": [
       "                                              image_path             label  \\\n",
       "20631  /Users/Tara8082/GIT/ProjectGIT/project_5/Plant...  Potato___healthy   \n",
       "20632  /Users/Tara8082/GIT/ProjectGIT/project_5/Plant...  Potato___healthy   \n",
       "20633  /Users/Tara8082/GIT/ProjectGIT/project_5/Plant...  Potato___healthy   \n",
       "20634  /Users/Tara8082/GIT/ProjectGIT/project_5/Plant...  Potato___healthy   \n",
       "20635  /Users/Tara8082/GIT/ProjectGIT/project_5/Plant...  Potato___healthy   \n",
       "\n",
       "      labels_integer  \n",
       "20631             14  \n",
       "20632             14  \n",
       "20633             14  \n",
       "20634             14  \n",
       "20635             14  "
      ],
      "text/html": "<div>\n<style scoped>\n    .dataframe tbody tr th:only-of-type {\n        vertical-align: middle;\n    }\n\n    .dataframe tbody tr th {\n        vertical-align: top;\n    }\n\n    .dataframe thead th {\n        text-align: right;\n    }\n</style>\n<table border=\"1\" class=\"dataframe\">\n  <thead>\n    <tr style=\"text-align: right;\">\n      <th></th>\n      <th>image_path</th>\n      <th>label</th>\n      <th>labels_integer</th>\n    </tr>\n  </thead>\n  <tbody>\n    <tr>\n      <th>20631</th>\n      <td>/Users/Tara8082/GIT/ProjectGIT/project_5/Plant...</td>\n      <td>Potato___healthy</td>\n      <td>14</td>\n    </tr>\n    <tr>\n      <th>20632</th>\n      <td>/Users/Tara8082/GIT/ProjectGIT/project_5/Plant...</td>\n      <td>Potato___healthy</td>\n      <td>14</td>\n    </tr>\n    <tr>\n      <th>20633</th>\n      <td>/Users/Tara8082/GIT/ProjectGIT/project_5/Plant...</td>\n      <td>Potato___healthy</td>\n      <td>14</td>\n    </tr>\n    <tr>\n      <th>20634</th>\n      <td>/Users/Tara8082/GIT/ProjectGIT/project_5/Plant...</td>\n      <td>Potato___healthy</td>\n      <td>14</td>\n    </tr>\n    <tr>\n      <th>20635</th>\n      <td>/Users/Tara8082/GIT/ProjectGIT/project_5/Plant...</td>\n      <td>Potato___healthy</td>\n      <td>14</td>\n    </tr>\n  </tbody>\n</table>\n</div>"
     },
     "metadata": {},
     "execution_count": 8
    }
   ],
   "source": [
    "#new column (empty)\n",
    "img_info[\"labels_integer\"] = None\n",
    "#index of new column\n",
    "index_labels_integer = img_info.columns.get_loc(\"labels_integer\")\n",
    "#index of species column\n",
    "index_species = img_info.columns.get_loc(\"label\")\n",
    "#to assign numeric labels starting with 0 for the first species\n",
    "k = 0 \n",
    "for i in range(len(img_info)):\n",
    "    if i == 0:\n",
    "        img_info.iloc[i, index_labels_integer] = k #here, k == 0\n",
    "    if i > 0:\n",
    "        if img_info.iloc[i-1, index_species] == img_info.iloc[i, index_species]:\n",
    "            img_info.iloc[i, index_labels_integer] = k\n",
    "        else:\n",
    "            k += 1\n",
    "            img_info.iloc[i, index_labels_integer] = k\n",
    "img_info.tail()"
   ]
  },
  {
   "cell_type": "code",
   "execution_count": 9,
   "metadata": {},
   "outputs": [
    {
     "output_type": "stream",
     "name": "stdout",
     "text": [
      "20636\n"
     ]
    }
   ],
   "source": [
    "img_info = shuffle(img_info)\n",
    "list_vectors = []\n",
    "\n",
    "for image_path in img_info.image_path:\n",
    "    #read as rgb array\n",
    "    img = Image.open(image_path)\n",
    "    size = (64, 64)\n",
    "    img = img.resize(size, PIL.Image.ANTIALIAS)  \n",
    "    img_array = np.array(img)\n",
    "    #append image vector to list\n",
    "    list_vectors.append(img_array)\n",
    "    \n",
    "print(len(list_vectors))"
   ]
  },
  {
   "cell_type": "code",
   "execution_count": 10,
   "metadata": {},
   "outputs": [
    {
     "output_type": "stream",
     "name": "stdout",
     "text": [
      "(20636, 64, 64, 3)\n"
     ]
    }
   ],
   "source": [
    "X = np.stack((list_vectors))\n",
    "Y =  img_info['labels_integer']\n",
    "print(X.shape)"
   ]
  },
  {
   "cell_type": "code",
   "execution_count": 11,
   "metadata": {},
   "outputs": [
    {
     "output_type": "stream",
     "name": "stdout",
     "text": [
      "(20636,) (20636, 15)\n"
     ]
    }
   ],
   "source": [
    "X = X/255\n",
    "Y_one_hot = keras.utils.to_categorical(Y, num_classes=15)\n",
    "print(Y.shape, Y_one_hot.shape)"
   ]
  },
  {
   "cell_type": "code",
   "execution_count": 12,
   "metadata": {},
   "outputs": [
    {
     "output_type": "stream",
     "name": "stdout",
     "text": [
      "/Users/Tara8082/GIT/ProjectGIT/project_5\n"
     ]
    }
   ],
   "source": [
    "cd /Users/Tara8082/GIT/ProjectGIT/project_5"
   ]
  },
  {
   "cell_type": "code",
   "execution_count": 13,
   "metadata": {},
   "outputs": [],
   "source": [
    "np.savez(\"x_images_arrayscnn\", X)\n",
    "np.savez(\"y_numeric_labelscnn\", Y_one_hot)"
   ]
  },
  {
   "cell_type": "code",
   "execution_count": 14,
   "metadata": {},
   "outputs": [
    {
     "output_type": "stream",
     "name": "stdout",
     "text": [
      "(20636, 64, 64, 3)\n"
     ]
    }
   ],
   "source": [
    "x_npz = np.load(\"/Users/Tara8082/GIT/ProjectGIT/project_5/x_images_arrayscnn.npz\")\n",
    "X = x_npz['arr_0']\n",
    "\n",
    "y_npz = np.load(\"/Users/Tara8082/GIT/ProjectGIT/project_5/y_numeric_labelscnn.npz\")\n",
    "Y_one_hot = y_npz['arr_0']\n",
    "\n",
    "print(X.shape)"
   ]
  },
  {
   "cell_type": "code",
   "execution_count": 32,
   "metadata": {},
   "outputs": [
    {
     "output_type": "stream",
     "name": "stdout",
     "text": [
      "(20636, 15)\n"
     ]
    }
   ],
   "source": [
    "print(Y_one_hot.shape)"
   ]
  },
  {
   "source": [],
   "cell_type": "markdown",
   "metadata": {}
  },
  {
   "cell_type": "code",
   "execution_count": 22,
   "metadata": {},
   "outputs": [
    {
     "output_type": "stream",
     "name": "stdout",
     "text": [
      "(16508, 64, 64, 3) (2064, 64, 64, 3) (2064, 64, 64, 3) (16508, 15) (2064, 15) (2064, 15)\n"
     ]
    }
   ],
   "source": [
    "split_train = 0.8 #train 0.8, validate 0.1, test 0.1\n",
    "split_val = 0.9\n",
    "index_train = int(split_train*len(X))\n",
    "index_val = int(split_val*len(X))\n",
    "\n",
    "X_train = X[:index_train]\n",
    "X_val = X[index_train:index_val]\n",
    "X_test = X[index_val:]\n",
    "\n",
    "Y_train = Y_one_hot[:index_train]\n",
    "Y_val = Y_one_hot[index_train:index_val]\n",
    "Y_test = Y_one_hot[index_val:]\n",
    "\n",
    "\n",
    "print(X_train.shape, X_val.shape, X_test.shape, Y_train.shape, Y_val.shape, Y_test.shape)"
   ]
  },
  {
   "cell_type": "code",
   "execution_count": 23,
   "metadata": {},
   "outputs": [],
   "source": [
    "input_shape = (X_train.shape[1], X_train.shape[2], X_train.shape[3]) \n",
    "num_classes = 15 # multi class problem\n",
    "\n",
    "model = Sequential()\n",
    "model.add(Conv2D(32, kernel_size=(5, 5), strides=(1, 1), input_shape=input_shape))\n",
    "model.add(Activation('relu'))\n",
    "model.add(MaxPooling2D(pool_size=(2, 2), strides=(2, 2)))\n",
    "model.add(Conv2D(64, (5, 5)))\n",
    "model.add(Activation('relu'))\n",
    "model.add(MaxPooling2D(pool_size=(2, 2)))\n",
    "model.add(Dropout(0.7))\n",
    "model.add(Flatten())\n",
    "model.add(Dense(1000))\n",
    "model.add(Activation('relu'))\n",
    "model.add(Dropout(0.7))\n",
    "model.add(Dense(num_classes, activation='softmax'))\n",
    "\n",
    "# multi class = categorical cross entropy\n",
    "model.compile(optimizer=keras.optimizers.Adam(lr=0.0003, beta_1=0.9, beta_2=0.999, epsilon=None, decay=1e-8, amsgrad=False), loss='categorical_crossentropy', metrics=['accuracy'])"
   ]
  },
  {
   "cell_type": "code",
   "execution_count": 24,
   "metadata": {},
   "outputs": [
    {
     "output_type": "stream",
     "name": "stdout",
     "text": [
      "Model: \"sequential_1\"\n_________________________________________________________________\nLayer (type)                 Output Shape              Param #   \n=================================================================\nconv2d_2 (Conv2D)            (None, 60, 60, 32)        2432      \n_________________________________________________________________\nactivation_3 (Activation)    (None, 60, 60, 32)        0         \n_________________________________________________________________\nmax_pooling2d_2 (MaxPooling2 (None, 30, 30, 32)        0         \n_________________________________________________________________\nconv2d_3 (Conv2D)            (None, 26, 26, 64)        51264     \n_________________________________________________________________\nactivation_4 (Activation)    (None, 26, 26, 64)        0         \n_________________________________________________________________\nmax_pooling2d_3 (MaxPooling2 (None, 13, 13, 64)        0         \n_________________________________________________________________\ndropout_2 (Dropout)          (None, 13, 13, 64)        0         \n_________________________________________________________________\nflatten_1 (Flatten)          (None, 10816)             0         \n_________________________________________________________________\ndense_2 (Dense)              (None, 1000)              10817000  \n_________________________________________________________________\nactivation_5 (Activation)    (None, 1000)              0         \n_________________________________________________________________\ndropout_3 (Dropout)          (None, 1000)              0         \n_________________________________________________________________\ndense_3 (Dense)              (None, 15)                15015     \n=================================================================\nTotal params: 10,885,711\nTrainable params: 10,885,711\nNon-trainable params: 0\n_________________________________________________________________\n"
     ]
    }
   ],
   "source": [
    "model.summary()"
   ]
  },
  {
   "cell_type": "code",
   "execution_count": 62,
   "metadata": {},
   "outputs": [
    {
     "output_type": "stream",
     "name": "stdout",
     "text": [
      "Training model...\n",
      "Epoch 1/100\n",
      "258/258 [==============================] - ETA: 0s - loss: 0.1351 - accuracy: 0.9580\n",
      "Epoch 00001: val_loss improved from inf to 0.03358, saving model to disease_selected_100.h5\n",
      "258/258 [==============================] - 57s 221ms/step - loss: 0.1351 - accuracy: 0.9580 - val_loss: 0.0336 - val_accuracy: 0.9913\n",
      "Epoch 2/100\n",
      "258/258 [==============================] - ETA: 0s - loss: 0.1024 - accuracy: 0.9674\n",
      "Epoch 00002: val_loss did not improve from 0.03358\n",
      "258/258 [==============================] - 58s 225ms/step - loss: 0.1024 - accuracy: 0.9674 - val_loss: 0.0349 - val_accuracy: 0.9903\n",
      "Epoch 3/100\n",
      "258/258 [==============================] - ETA: 0s - loss: 0.0891 - accuracy: 0.9702\n",
      "Epoch 00003: val_loss did not improve from 0.03358\n",
      "258/258 [==============================] - 51s 197ms/step - loss: 0.0891 - accuracy: 0.9702 - val_loss: 0.0416 - val_accuracy: 0.9889\n",
      "Epoch 4/100\n",
      "258/258 [==============================] - ETA: 0s - loss: 0.0831 - accuracy: 0.9730\n",
      "Epoch 00004: val_loss did not improve from 0.03358\n",
      "258/258 [==============================] - 48s 187ms/step - loss: 0.0831 - accuracy: 0.9730 - val_loss: 0.0428 - val_accuracy: 0.9913\n",
      "Epoch 5/100\n",
      "258/258 [==============================] - ETA: 0s - loss: 0.0732 - accuracy: 0.9747\n",
      "Epoch 00005: val_loss did not improve from 0.03358\n",
      "258/258 [==============================] - 47s 181ms/step - loss: 0.0732 - accuracy: 0.9747 - val_loss: 0.0427 - val_accuracy: 0.9884\n",
      "Epoch 6/100\n",
      "258/258 [==============================] - ETA: 0s - loss: 0.0730 - accuracy: 0.9744\n",
      "Epoch 00006: val_loss did not improve from 0.03358\n",
      "258/258 [==============================] - 46s 179ms/step - loss: 0.0730 - accuracy: 0.9744 - val_loss: 0.0391 - val_accuracy: 0.9884\n",
      "Epoch 7/100\n",
      "258/258 [==============================] - ETA: 0s - loss: 0.0841 - accuracy: 0.9712\n",
      "Epoch 00007: val_loss did not improve from 0.03358\n",
      "258/258 [==============================] - 47s 182ms/step - loss: 0.0841 - accuracy: 0.9712 - val_loss: 0.0413 - val_accuracy: 0.9908\n",
      "Epoch 8/100\n",
      "258/258 [==============================] - ETA: 0s - loss: 0.0755 - accuracy: 0.9753\n",
      "Epoch 00008: val_loss did not improve from 0.03358\n",
      "258/258 [==============================] - 48s 186ms/step - loss: 0.0755 - accuracy: 0.9753 - val_loss: 0.0640 - val_accuracy: 0.9830\n",
      "Epoch 9/100\n",
      "258/258 [==============================] - ETA: 0s - loss: 0.0731 - accuracy: 0.9753\n",
      "Epoch 00009: val_loss did not improve from 0.03358\n",
      "258/258 [==============================] - 50s 193ms/step - loss: 0.0731 - accuracy: 0.9753 - val_loss: 0.0537 - val_accuracy: 0.9859\n",
      "Epoch 10/100\n",
      "258/258 [==============================] - ETA: 0s - loss: 0.0781 - accuracy: 0.9734\n",
      "Epoch 00010: val_loss did not improve from 0.03358\n",
      "258/258 [==============================] - 50s 193ms/step - loss: 0.0781 - accuracy: 0.9734 - val_loss: 0.0432 - val_accuracy: 0.9893\n",
      "Epoch 11/100\n",
      "258/258 [==============================] - ETA: 0s - loss: 0.0652 - accuracy: 0.9783\n",
      "Epoch 00011: val_loss did not improve from 0.03358\n",
      "258/258 [==============================] - 56s 217ms/step - loss: 0.0652 - accuracy: 0.9783 - val_loss: 0.0404 - val_accuracy: 0.9903\n",
      "Epoch 12/100\n",
      "258/258 [==============================] - ETA: 0s - loss: 0.0690 - accuracy: 0.9764\n",
      "Epoch 00012: val_loss improved from 0.03358 to 0.03344, saving model to disease_selected_100.h5\n",
      "258/258 [==============================] - 52s 203ms/step - loss: 0.0690 - accuracy: 0.9764 - val_loss: 0.0334 - val_accuracy: 0.9922\n",
      "Epoch 13/100\n",
      "258/258 [==============================] - ETA: 0s - loss: 0.0547 - accuracy: 0.9805\n",
      "Epoch 00013: val_loss did not improve from 0.03344\n",
      "258/258 [==============================] - 45s 176ms/step - loss: 0.0547 - accuracy: 0.9805 - val_loss: 0.0417 - val_accuracy: 0.9889\n",
      "Epoch 14/100\n",
      "258/258 [==============================] - ETA: 0s - loss: 0.0582 - accuracy: 0.9798\n",
      "Epoch 00014: val_loss did not improve from 0.03344\n",
      "258/258 [==============================] - 49s 191ms/step - loss: 0.0582 - accuracy: 0.9798 - val_loss: 0.0580 - val_accuracy: 0.9855\n",
      "Epoch 15/100\n",
      "258/258 [==============================] - ETA: 0s - loss: 0.0610 - accuracy: 0.9787\n",
      "Epoch 00015: val_loss did not improve from 0.03344\n",
      "258/258 [==============================] - 49s 188ms/step - loss: 0.0610 - accuracy: 0.9787 - val_loss: 0.0435 - val_accuracy: 0.9879\n",
      "Epoch 16/100\n",
      "258/258 [==============================] - ETA: 0s - loss: 0.0548 - accuracy: 0.9818\n",
      "Epoch 00016: val_loss did not improve from 0.03344\n",
      "258/258 [==============================] - 50s 192ms/step - loss: 0.0548 - accuracy: 0.9818 - val_loss: 0.0470 - val_accuracy: 0.9889\n",
      "Epoch 17/100\n",
      "258/258 [==============================] - ETA: 0s - loss: 0.0602 - accuracy: 0.9803\n",
      "Epoch 00017: val_loss did not improve from 0.03344\n",
      "258/258 [==============================] - 49s 189ms/step - loss: 0.0602 - accuracy: 0.9803 - val_loss: 0.0685 - val_accuracy: 0.9830\n",
      "Epoch 18/100\n",
      "258/258 [==============================] - ETA: 0s - loss: 0.0610 - accuracy: 0.9792\n",
      "Epoch 00018: val_loss did not improve from 0.03344\n",
      "258/258 [==============================] - 49s 189ms/step - loss: 0.0610 - accuracy: 0.9792 - val_loss: 0.0581 - val_accuracy: 0.9869\n",
      "Epoch 19/100\n",
      "258/258 [==============================] - ETA: 0s - loss: 0.0531 - accuracy: 0.9816\n",
      "Epoch 00019: val_loss did not improve from 0.03344\n",
      "258/258 [==============================] - 49s 188ms/step - loss: 0.0531 - accuracy: 0.9816 - val_loss: 0.0547 - val_accuracy: 0.9864\n",
      "Epoch 20/100\n",
      "258/258 [==============================] - ETA: 0s - loss: 0.0628 - accuracy: 0.9779\n",
      "Epoch 00020: val_loss did not improve from 0.03344\n",
      "258/258 [==============================] - 49s 189ms/step - loss: 0.0628 - accuracy: 0.9779 - val_loss: 0.0521 - val_accuracy: 0.9879\n",
      "Epoch 21/100\n",
      "258/258 [==============================] - ETA: 0s - loss: 0.0515 - accuracy: 0.9816\n",
      "Epoch 00021: val_loss did not improve from 0.03344\n",
      "258/258 [==============================] - 48s 188ms/step - loss: 0.0515 - accuracy: 0.9816 - val_loss: 0.0504 - val_accuracy: 0.9874\n",
      "Epoch 22/100\n",
      "258/258 [==============================] - ETA: 0s - loss: 0.0510 - accuracy: 0.9838\n",
      "Epoch 00022: val_loss did not improve from 0.03344\n",
      "258/258 [==============================] - 49s 190ms/step - loss: 0.0510 - accuracy: 0.9838 - val_loss: 0.0511 - val_accuracy: 0.9874\n",
      "Epoch 23/100\n",
      "258/258 [==============================] - ETA: 0s - loss: 0.0532 - accuracy: 0.9815\n",
      "Epoch 00023: val_loss did not improve from 0.03344\n",
      "258/258 [==============================] - 48s 187ms/step - loss: 0.0532 - accuracy: 0.9815 - val_loss: 0.0610 - val_accuracy: 0.9903\n",
      "Epoch 24/100\n",
      "258/258 [==============================] - ETA: 0s - loss: 0.0485 - accuracy: 0.9834\n",
      "Epoch 00024: val_loss did not improve from 0.03344\n",
      "258/258 [==============================] - 49s 189ms/step - loss: 0.0485 - accuracy: 0.9834 - val_loss: 0.0548 - val_accuracy: 0.9889\n",
      "Epoch 25/100\n",
      "258/258 [==============================] - ETA: 0s - loss: 0.0495 - accuracy: 0.9830\n",
      "Epoch 00025: val_loss did not improve from 0.03344\n",
      "258/258 [==============================] - 49s 189ms/step - loss: 0.0495 - accuracy: 0.9830 - val_loss: 0.0525 - val_accuracy: 0.9893\n",
      "Epoch 26/100\n",
      "258/258 [==============================] - ETA: 0s - loss: 0.0529 - accuracy: 0.9827\n",
      "Epoch 00026: val_loss did not improve from 0.03344\n",
      "258/258 [==============================] - 48s 188ms/step - loss: 0.0529 - accuracy: 0.9827 - val_loss: 0.0585 - val_accuracy: 0.9889\n",
      "Epoch 27/100\n",
      "258/258 [==============================] - ETA: 0s - loss: 0.0463 - accuracy: 0.9841\n",
      "Epoch 00027: val_loss did not improve from 0.03344\n",
      "258/258 [==============================] - 50s 192ms/step - loss: 0.0463 - accuracy: 0.9841 - val_loss: 0.0559 - val_accuracy: 0.9913\n",
      "Epoch 28/100\n",
      "258/258 [==============================] - ETA: 0s - loss: 0.0545 - accuracy: 0.9824\n",
      "Epoch 00028: val_loss did not improve from 0.03344\n",
      "258/258 [==============================] - 49s 190ms/step - loss: 0.0545 - accuracy: 0.9824 - val_loss: 0.0563 - val_accuracy: 0.9898\n",
      "Epoch 29/100\n",
      "258/258 [==============================] - ETA: 0s - loss: 0.0519 - accuracy: 0.9823\n",
      "Epoch 00029: val_loss did not improve from 0.03344\n",
      "258/258 [==============================] - 48s 187ms/step - loss: 0.0519 - accuracy: 0.9823 - val_loss: 0.0744 - val_accuracy: 0.9859\n",
      "Epoch 30/100\n",
      "258/258 [==============================] - ETA: 0s - loss: 0.0516 - accuracy: 0.9838\n",
      "Epoch 00030: val_loss did not improve from 0.03344\n",
      "258/258 [==============================] - 48s 187ms/step - loss: 0.0516 - accuracy: 0.9838 - val_loss: 0.0672 - val_accuracy: 0.9855\n",
      "Epoch 31/100\n",
      "258/258 [==============================] - ETA: 0s - loss: 0.0506 - accuracy: 0.9839\n",
      "Epoch 00031: val_loss did not improve from 0.03344\n",
      "258/258 [==============================] - 48s 187ms/step - loss: 0.0506 - accuracy: 0.9839 - val_loss: 0.0585 - val_accuracy: 0.9869\n",
      "Epoch 32/100\n",
      "258/258 [==============================] - ETA: 0s - loss: 0.0465 - accuracy: 0.9846\n",
      "Epoch 00032: val_loss did not improve from 0.03344\n",
      "258/258 [==============================] - 48s 188ms/step - loss: 0.0465 - accuracy: 0.9846 - val_loss: 0.0762 - val_accuracy: 0.9879\n",
      "Epoch 33/100\n",
      "258/258 [==============================] - ETA: 0s - loss: 0.0501 - accuracy: 0.9834\n",
      "Epoch 00033: val_loss did not improve from 0.03344\n",
      "258/258 [==============================] - 48s 188ms/step - loss: 0.0501 - accuracy: 0.9834 - val_loss: 0.0715 - val_accuracy: 0.9864\n",
      "Epoch 34/100\n",
      "258/258 [==============================] - ETA: 0s - loss: 0.0443 - accuracy: 0.9852\n",
      "Epoch 00034: val_loss did not improve from 0.03344\n",
      "258/258 [==============================] - 49s 188ms/step - loss: 0.0443 - accuracy: 0.9852 - val_loss: 0.0733 - val_accuracy: 0.9879\n",
      "Epoch 35/100\n",
      "258/258 [==============================] - ETA: 0s - loss: 0.0448 - accuracy: 0.9850\n",
      "Epoch 00035: val_loss did not improve from 0.03344\n",
      "258/258 [==============================] - 49s 188ms/step - loss: 0.0448 - accuracy: 0.9850 - val_loss: 0.0873 - val_accuracy: 0.9840\n",
      "Epoch 36/100\n",
      "258/258 [==============================] - ETA: 0s - loss: 0.0529 - accuracy: 0.9824\n",
      "Epoch 00036: val_loss did not improve from 0.03344\n",
      "258/258 [==============================] - 49s 189ms/step - loss: 0.0529 - accuracy: 0.9824 - val_loss: 0.0955 - val_accuracy: 0.9816\n",
      "Epoch 37/100\n",
      "258/258 [==============================] - ETA: 0s - loss: 0.0371 - accuracy: 0.9871\n",
      "Epoch 00037: val_loss did not improve from 0.03344\n",
      "258/258 [==============================] - 48s 188ms/step - loss: 0.0371 - accuracy: 0.9871 - val_loss: 0.0771 - val_accuracy: 0.9879\n",
      "Epoch 38/100\n",
      "258/258 [==============================] - ETA: 0s - loss: 0.0390 - accuracy: 0.9859\n",
      "Epoch 00038: val_loss did not improve from 0.03344\n",
      "258/258 [==============================] - 48s 188ms/step - loss: 0.0390 - accuracy: 0.9859 - val_loss: 0.0993 - val_accuracy: 0.9850\n",
      "Epoch 39/100\n",
      "258/258 [==============================] - ETA: 0s - loss: 0.0397 - accuracy: 0.9859\n",
      "Epoch 00039: val_loss did not improve from 0.03344\n",
      "258/258 [==============================] - 49s 191ms/step - loss: 0.0397 - accuracy: 0.9859 - val_loss: 0.0825 - val_accuracy: 0.9869\n",
      "Epoch 40/100\n",
      "258/258 [==============================] - ETA: 0s - loss: 0.0443 - accuracy: 0.9846\n",
      "Epoch 00040: val_loss did not improve from 0.03344\n",
      "258/258 [==============================] - 49s 189ms/step - loss: 0.0443 - accuracy: 0.9846 - val_loss: 0.0865 - val_accuracy: 0.9874\n",
      "Epoch 41/100\n",
      "258/258 [==============================] - ETA: 0s - loss: 0.0417 - accuracy: 0.9853\n",
      "Epoch 00041: val_loss did not improve from 0.03344\n",
      "258/258 [==============================] - 49s 188ms/step - loss: 0.0417 - accuracy: 0.9853 - val_loss: 0.0824 - val_accuracy: 0.9855\n",
      "Epoch 42/100\n",
      "258/258 [==============================] - ETA: 0s - loss: 0.0444 - accuracy: 0.9848\n",
      "Epoch 00042: val_loss did not improve from 0.03344\n",
      "258/258 [==============================] - 49s 189ms/step - loss: 0.0444 - accuracy: 0.9848 - val_loss: 0.1212 - val_accuracy: 0.9753\n",
      "Epoch 43/100\n",
      "258/258 [==============================] - ETA: 0s - loss: 0.0451 - accuracy: 0.9857\n",
      "Epoch 00043: val_loss did not improve from 0.03344\n",
      "258/258 [==============================] - 49s 188ms/step - loss: 0.0451 - accuracy: 0.9857 - val_loss: 0.0893 - val_accuracy: 0.9884\n",
      "Epoch 44/100\n",
      "258/258 [==============================] - ETA: 0s - loss: 0.0374 - accuracy: 0.9873\n",
      "Epoch 00044: val_loss did not improve from 0.03344\n",
      "258/258 [==============================] - 49s 189ms/step - loss: 0.0374 - accuracy: 0.9873 - val_loss: 0.0902 - val_accuracy: 0.9830\n",
      "Epoch 45/100\n",
      "258/258 [==============================] - ETA: 0s - loss: 0.0498 - accuracy: 0.9832\n",
      "Epoch 00045: val_loss did not improve from 0.03344\n",
      "258/258 [==============================] - 50s 192ms/step - loss: 0.0498 - accuracy: 0.9832 - val_loss: 0.0904 - val_accuracy: 0.9840\n",
      "Epoch 46/100\n",
      "258/258 [==============================] - ETA: 0s - loss: 0.0338 - accuracy: 0.9881\n",
      "Epoch 00046: val_loss did not improve from 0.03344\n",
      "258/258 [==============================] - 49s 189ms/step - loss: 0.0338 - accuracy: 0.9881 - val_loss: 0.1015 - val_accuracy: 0.9855\n",
      "Epoch 47/100\n",
      "258/258 [==============================] - ETA: 0s - loss: 0.0396 - accuracy: 0.9861\n",
      "Epoch 00047: val_loss did not improve from 0.03344\n",
      "258/258 [==============================] - 49s 191ms/step - loss: 0.0396 - accuracy: 0.9861 - val_loss: 0.1128 - val_accuracy: 0.9826\n",
      "Epoch 48/100\n",
      "258/258 [==============================] - ETA: 0s - loss: 0.0433 - accuracy: 0.9850\n",
      "Epoch 00048: val_loss did not improve from 0.03344\n",
      "258/258 [==============================] - 50s 192ms/step - loss: 0.0433 - accuracy: 0.9850 - val_loss: 0.0912 - val_accuracy: 0.9859\n",
      "Epoch 49/100\n",
      "258/258 [==============================] - ETA: 0s - loss: 0.0405 - accuracy: 0.9869\n",
      "Epoch 00049: val_loss did not improve from 0.03344\n",
      "258/258 [==============================] - 50s 193ms/step - loss: 0.0405 - accuracy: 0.9869 - val_loss: 0.1105 - val_accuracy: 0.9835\n",
      "Epoch 50/100\n",
      "258/258 [==============================] - ETA: 0s - loss: 0.0403 - accuracy: 0.9863\n",
      "Epoch 00050: val_loss did not improve from 0.03344\n",
      "258/258 [==============================] - 50s 193ms/step - loss: 0.0403 - accuracy: 0.9863 - val_loss: 0.0938 - val_accuracy: 0.9869\n",
      "Epoch 51/100\n",
      "258/258 [==============================] - ETA: 0s - loss: 0.0403 - accuracy: 0.9871\n",
      "Epoch 00051: val_loss did not improve from 0.03344\n",
      "258/258 [==============================] - 50s 194ms/step - loss: 0.0403 - accuracy: 0.9871 - val_loss: 0.0898 - val_accuracy: 0.9879\n",
      "Epoch 52/100\n",
      "258/258 [==============================] - ETA: 0s - loss: 0.0443 - accuracy: 0.9859\n",
      "Epoch 00052: val_loss did not improve from 0.03344\n",
      "258/258 [==============================] - 50s 196ms/step - loss: 0.0443 - accuracy: 0.9859 - val_loss: 0.0860 - val_accuracy: 0.9850\n",
      "Epoch 53/100\n",
      "258/258 [==============================] - ETA: 0s - loss: 0.0347 - accuracy: 0.9884\n",
      "Epoch 00053: val_loss did not improve from 0.03344\n",
      "258/258 [==============================] - 50s 195ms/step - loss: 0.0347 - accuracy: 0.9884 - val_loss: 0.0898 - val_accuracy: 0.9864\n",
      "Epoch 54/100\n",
      "258/258 [==============================] - ETA: 0s - loss: 0.0421 - accuracy: 0.9862\n",
      "Epoch 00054: val_loss did not improve from 0.03344\n",
      "258/258 [==============================] - 50s 193ms/step - loss: 0.0421 - accuracy: 0.9862 - val_loss: 0.1013 - val_accuracy: 0.9835\n",
      "Epoch 55/100\n",
      "258/258 [==============================] - ETA: 0s - loss: 0.0365 - accuracy: 0.9883\n",
      "Epoch 00055: val_loss did not improve from 0.03344\n",
      "258/258 [==============================] - 49s 191ms/step - loss: 0.0365 - accuracy: 0.9883 - val_loss: 0.0891 - val_accuracy: 0.9850\n",
      "Epoch 56/100\n",
      "258/258 [==============================] - ETA: 0s - loss: 0.0399 - accuracy: 0.9869\n",
      "Epoch 00056: val_loss did not improve from 0.03344\n",
      "258/258 [==============================] - 50s 192ms/step - loss: 0.0399 - accuracy: 0.9869 - val_loss: 0.1031 - val_accuracy: 0.9864\n",
      "Epoch 57/100\n",
      "258/258 [==============================] - ETA: 0s - loss: 0.0400 - accuracy: 0.9862\n",
      "Epoch 00057: val_loss did not improve from 0.03344\n",
      "258/258 [==============================] - 50s 194ms/step - loss: 0.0400 - accuracy: 0.9862 - val_loss: 0.1364 - val_accuracy: 0.9782\n",
      "Epoch 58/100\n",
      "258/258 [==============================] - ETA: 0s - loss: 0.0431 - accuracy: 0.9858\n",
      "Epoch 00058: val_loss did not improve from 0.03344\n",
      "258/258 [==============================] - 50s 193ms/step - loss: 0.0431 - accuracy: 0.9858 - val_loss: 0.1052 - val_accuracy: 0.9845\n",
      "Epoch 59/100\n",
      "258/258 [==============================] - ETA: 0s - loss: 0.0408 - accuracy: 0.9860\n",
      "Epoch 00059: val_loss did not improve from 0.03344\n",
      "258/258 [==============================] - 50s 193ms/step - loss: 0.0408 - accuracy: 0.9860 - val_loss: 0.1322 - val_accuracy: 0.9806\n",
      "Epoch 60/100\n",
      "258/258 [==============================] - ETA: 0s - loss: 0.0343 - accuracy: 0.9882\n",
      "Epoch 00060: val_loss did not improve from 0.03344\n",
      "258/258 [==============================] - 50s 194ms/step - loss: 0.0343 - accuracy: 0.9882 - val_loss: 0.0996 - val_accuracy: 0.9855\n",
      "Epoch 61/100\n",
      "258/258 [==============================] - ETA: 0s - loss: 0.0387 - accuracy: 0.9865\n",
      "Epoch 00061: val_loss did not improve from 0.03344\n",
      "258/258 [==============================] - 50s 193ms/step - loss: 0.0387 - accuracy: 0.9865 - val_loss: 0.1078 - val_accuracy: 0.9859\n",
      "Epoch 62/100\n",
      "258/258 [==============================] - ETA: 0s - loss: 0.0412 - accuracy: 0.9861\n",
      "Epoch 00062: val_loss did not improve from 0.03344\n",
      "258/258 [==============================] - 50s 193ms/step - loss: 0.0412 - accuracy: 0.9861 - val_loss: 0.0976 - val_accuracy: 0.9830\n",
      "Epoch 63/100\n",
      "258/258 [==============================] - ETA: 0s - loss: 0.0309 - accuracy: 0.9890\n",
      "Epoch 00063: val_loss did not improve from 0.03344\n",
      "258/258 [==============================] - 51s 196ms/step - loss: 0.0309 - accuracy: 0.9890 - val_loss: 0.1124 - val_accuracy: 0.9845\n",
      "Epoch 64/100\n",
      "258/258 [==============================] - ETA: 0s - loss: 0.0303 - accuracy: 0.9902\n",
      "Epoch 00064: val_loss did not improve from 0.03344\n",
      "258/258 [==============================] - 50s 194ms/step - loss: 0.0303 - accuracy: 0.9902 - val_loss: 0.1403 - val_accuracy: 0.9821\n",
      "Epoch 65/100\n",
      "258/258 [==============================] - ETA: 0s - loss: 0.0367 - accuracy: 0.9881\n",
      "Epoch 00065: val_loss did not improve from 0.03344\n",
      "258/258 [==============================] - 50s 194ms/step - loss: 0.0367 - accuracy: 0.9881 - val_loss: 0.1212 - val_accuracy: 0.9811\n",
      "Epoch 66/100\n",
      "258/258 [==============================] - ETA: 0s - loss: 0.0389 - accuracy: 0.9873\n",
      "Epoch 00066: val_loss did not improve from 0.03344\n",
      "258/258 [==============================] - 50s 192ms/step - loss: 0.0389 - accuracy: 0.9873 - val_loss: 0.1053 - val_accuracy: 0.9855\n",
      "Epoch 67/100\n",
      "258/258 [==============================] - ETA: 0s - loss: 0.0382 - accuracy: 0.9873\n",
      "Epoch 00067: val_loss did not improve from 0.03344\n",
      "258/258 [==============================] - 50s 193ms/step - loss: 0.0382 - accuracy: 0.9873 - val_loss: 0.1072 - val_accuracy: 0.9811\n",
      "Epoch 68/100\n",
      "258/258 [==============================] - ETA: 0s - loss: 0.0348 - accuracy: 0.9887\n",
      "Epoch 00068: val_loss did not improve from 0.03344\n",
      "258/258 [==============================] - 50s 193ms/step - loss: 0.0348 - accuracy: 0.9887 - val_loss: 0.1114 - val_accuracy: 0.9840\n",
      "Epoch 69/100\n",
      "258/258 [==============================] - ETA: 0s - loss: 0.0344 - accuracy: 0.9879\n",
      "Epoch 00069: val_loss did not improve from 0.03344\n",
      "258/258 [==============================] - 49s 190ms/step - loss: 0.0344 - accuracy: 0.9879 - val_loss: 0.1162 - val_accuracy: 0.9879\n",
      "Epoch 70/100\n",
      "258/258 [==============================] - ETA: 0s - loss: 0.0358 - accuracy: 0.9876\n",
      "Epoch 00070: val_loss did not improve from 0.03344\n",
      "258/258 [==============================] - 47s 181ms/step - loss: 0.0358 - accuracy: 0.9876 - val_loss: 0.1201 - val_accuracy: 0.9864\n",
      "Epoch 71/100\n",
      "258/258 [==============================] - ETA: 0s - loss: 0.0403 - accuracy: 0.9875\n",
      "Epoch 00071: val_loss did not improve from 0.03344\n",
      "258/258 [==============================] - 47s 181ms/step - loss: 0.0403 - accuracy: 0.9875 - val_loss: 0.1050 - val_accuracy: 0.9884\n",
      "Epoch 72/100\n",
      "258/258 [==============================] - ETA: 0s - loss: 0.0463 - accuracy: 0.9840\n",
      "Epoch 00072: val_loss did not improve from 0.03344\n",
      "258/258 [==============================] - 47s 183ms/step - loss: 0.0463 - accuracy: 0.9840 - val_loss: 0.1041 - val_accuracy: 0.9859\n",
      "Epoch 73/100\n",
      "258/258 [==============================] - ETA: 0s - loss: 0.0322 - accuracy: 0.9905\n",
      "Epoch 00073: val_loss did not improve from 0.03344\n",
      "258/258 [==============================] - 47s 183ms/step - loss: 0.0322 - accuracy: 0.9905 - val_loss: 0.1275 - val_accuracy: 0.9874\n",
      "Epoch 74/100\n",
      "258/258 [==============================] - ETA: 0s - loss: 0.0339 - accuracy: 0.9895\n",
      "Epoch 00074: val_loss did not improve from 0.03344\n",
      "258/258 [==============================] - 49s 189ms/step - loss: 0.0339 - accuracy: 0.9895 - val_loss: 0.1335 - val_accuracy: 0.9864\n",
      "Epoch 75/100\n",
      "258/258 [==============================] - ETA: 0s - loss: 0.0336 - accuracy: 0.9899\n",
      "Epoch 00075: val_loss did not improve from 0.03344\n",
      "258/258 [==============================] - 50s 193ms/step - loss: 0.0336 - accuracy: 0.9899 - val_loss: 0.1271 - val_accuracy: 0.9864\n",
      "Epoch 76/100\n",
      "258/258 [==============================] - ETA: 0s - loss: 0.0423 - accuracy: 0.9856\n",
      "Epoch 00076: val_loss did not improve from 0.03344\n",
      "258/258 [==============================] - 50s 194ms/step - loss: 0.0423 - accuracy: 0.9856 - val_loss: 0.1188 - val_accuracy: 0.9855\n",
      "Epoch 77/100\n",
      "258/258 [==============================] - ETA: 0s - loss: 0.0322 - accuracy: 0.9892\n",
      "Epoch 00077: val_loss did not improve from 0.03344\n",
      "258/258 [==============================] - 50s 193ms/step - loss: 0.0322 - accuracy: 0.9892 - val_loss: 0.1147 - val_accuracy: 0.9845\n",
      "Epoch 78/100\n",
      "258/258 [==============================] - ETA: 0s - loss: 0.0249 - accuracy: 0.9913\n",
      "Epoch 00078: val_loss did not improve from 0.03344\n",
      "258/258 [==============================] - 50s 194ms/step - loss: 0.0249 - accuracy: 0.9913 - val_loss: 0.1226 - val_accuracy: 0.9830\n",
      "Epoch 79/100\n",
      "258/258 [==============================] - ETA: 0s - loss: 0.0290 - accuracy: 0.9902\n",
      "Epoch 00079: val_loss did not improve from 0.03344\n",
      "258/258 [==============================] - 50s 195ms/step - loss: 0.0290 - accuracy: 0.9902 - val_loss: 0.1279 - val_accuracy: 0.9859\n",
      "Epoch 80/100\n",
      "258/258 [==============================] - ETA: 0s - loss: 0.0333 - accuracy: 0.9887\n",
      "Epoch 00080: val_loss did not improve from 0.03344\n",
      "258/258 [==============================] - 50s 195ms/step - loss: 0.0333 - accuracy: 0.9887 - val_loss: 0.1327 - val_accuracy: 0.9811\n",
      "Epoch 81/100\n",
      "258/258 [==============================] - ETA: 0s - loss: 0.0455 - accuracy: 0.9848\n",
      "Epoch 00081: val_loss did not improve from 0.03344\n",
      "258/258 [==============================] - 50s 194ms/step - loss: 0.0455 - accuracy: 0.9848 - val_loss: 0.1356 - val_accuracy: 0.9816\n",
      "Epoch 82/100\n",
      "258/258 [==============================] - ETA: 0s - loss: 0.0279 - accuracy: 0.9912\n",
      "Epoch 00082: val_loss did not improve from 0.03344\n",
      "258/258 [==============================] - 51s 196ms/step - loss: 0.0279 - accuracy: 0.9912 - val_loss: 0.1436 - val_accuracy: 0.9835\n",
      "Epoch 83/100\n",
      "258/258 [==============================] - ETA: 0s - loss: 0.0339 - accuracy: 0.9889\n",
      "Epoch 00083: val_loss did not improve from 0.03344\n",
      "258/258 [==============================] - 50s 195ms/step - loss: 0.0339 - accuracy: 0.9889 - val_loss: 0.1429 - val_accuracy: 0.9821\n",
      "Epoch 84/100\n",
      "258/258 [==============================] - ETA: 0s - loss: 0.0340 - accuracy: 0.9893\n",
      "Epoch 00084: val_loss did not improve from 0.03344\n",
      "258/258 [==============================] - 50s 194ms/step - loss: 0.0340 - accuracy: 0.9893 - val_loss: 0.1569 - val_accuracy: 0.9811\n",
      "Epoch 85/100\n",
      "258/258 [==============================] - ETA: 0s - loss: 0.0332 - accuracy: 0.9897\n",
      "Epoch 00085: val_loss did not improve from 0.03344\n",
      "258/258 [==============================] - 50s 194ms/step - loss: 0.0332 - accuracy: 0.9897 - val_loss: 0.1440 - val_accuracy: 0.9840\n",
      "Epoch 86/100\n",
      "258/258 [==============================] - ETA: 0s - loss: 0.0319 - accuracy: 0.9894\n",
      "Epoch 00086: val_loss did not improve from 0.03344\n",
      "258/258 [==============================] - 50s 195ms/step - loss: 0.0319 - accuracy: 0.9894 - val_loss: 0.1701 - val_accuracy: 0.9792\n",
      "Epoch 87/100\n",
      "258/258 [==============================] - ETA: 0s - loss: 0.0312 - accuracy: 0.9897\n",
      "Epoch 00087: val_loss did not improve from 0.03344\n",
      "258/258 [==============================] - 50s 194ms/step - loss: 0.0312 - accuracy: 0.9897 - val_loss: 0.1430 - val_accuracy: 0.9845\n",
      "Epoch 88/100\n",
      "258/258 [==============================] - ETA: 0s - loss: 0.0271 - accuracy: 0.9916\n",
      "Epoch 00088: val_loss did not improve from 0.03344\n",
      "258/258 [==============================] - 50s 195ms/step - loss: 0.0271 - accuracy: 0.9916 - val_loss: 0.1524 - val_accuracy: 0.9850\n",
      "Epoch 89/100\n",
      "258/258 [==============================] - ETA: 0s - loss: 0.0370 - accuracy: 0.9884\n",
      "Epoch 00089: val_loss did not improve from 0.03344\n",
      "258/258 [==============================] - 50s 195ms/step - loss: 0.0370 - accuracy: 0.9884 - val_loss: 0.1433 - val_accuracy: 0.9826\n",
      "Epoch 90/100\n",
      "258/258 [==============================] - ETA: 0s - loss: 0.0306 - accuracy: 0.9893\n",
      "Epoch 00090: val_loss did not improve from 0.03344\n",
      "258/258 [==============================] - 51s 196ms/step - loss: 0.0306 - accuracy: 0.9893 - val_loss: 0.1470 - val_accuracy: 0.9840\n",
      "Epoch 91/100\n",
      "258/258 [==============================] - ETA: 0s - loss: 0.0340 - accuracy: 0.9893\n",
      "Epoch 00091: val_loss did not improve from 0.03344\n",
      "258/258 [==============================] - 49s 191ms/step - loss: 0.0340 - accuracy: 0.9893 - val_loss: 0.1473 - val_accuracy: 0.9840\n",
      "Epoch 92/100\n",
      "258/258 [==============================] - ETA: 0s - loss: 0.0347 - accuracy: 0.9885\n",
      "Epoch 00092: val_loss did not improve from 0.03344\n",
      "258/258 [==============================] - 49s 191ms/step - loss: 0.0347 - accuracy: 0.9885 - val_loss: 0.1417 - val_accuracy: 0.9850\n",
      "Epoch 93/100\n",
      "258/258 [==============================] - ETA: 0s - loss: 0.0291 - accuracy: 0.9904\n",
      "Epoch 00093: val_loss did not improve from 0.03344\n",
      "258/258 [==============================] - 49s 190ms/step - loss: 0.0291 - accuracy: 0.9904 - val_loss: 0.1492 - val_accuracy: 0.9787\n",
      "Epoch 94/100\n",
      "258/258 [==============================] - ETA: 0s - loss: 0.0320 - accuracy: 0.9894\n",
      "Epoch 00094: val_loss did not improve from 0.03344\n",
      "258/258 [==============================] - 49s 191ms/step - loss: 0.0320 - accuracy: 0.9894 - val_loss: 0.1528 - val_accuracy: 0.9830\n",
      "Epoch 95/100\n",
      "258/258 [==============================] - ETA: 0s - loss: 0.0307 - accuracy: 0.9902\n",
      "Epoch 00095: val_loss did not improve from 0.03344\n",
      "258/258 [==============================] - 50s 193ms/step - loss: 0.0307 - accuracy: 0.9902 - val_loss: 0.1617 - val_accuracy: 0.9830\n",
      "Epoch 96/100\n",
      "258/258 [==============================] - ETA: 0s - loss: 0.0233 - accuracy: 0.9920\n",
      "Epoch 00096: val_loss did not improve from 0.03344\n",
      "258/258 [==============================] - 50s 194ms/step - loss: 0.0233 - accuracy: 0.9920 - val_loss: 0.1545 - val_accuracy: 0.9821\n",
      "Epoch 97/100\n",
      "258/258 [==============================] - ETA: 0s - loss: 0.0398 - accuracy: 0.9867\n",
      "Epoch 00097: val_loss did not improve from 0.03344\n",
      "258/258 [==============================] - 50s 192ms/step - loss: 0.0398 - accuracy: 0.9867 - val_loss: 0.1572 - val_accuracy: 0.9840\n",
      "Epoch 98/100\n",
      "258/258 [==============================] - ETA: 0s - loss: 0.0379 - accuracy: 0.9879\n",
      "Epoch 00098: val_loss did not improve from 0.03344\n",
      "258/258 [==============================] - 49s 192ms/step - loss: 0.0379 - accuracy: 0.9879 - val_loss: 0.1331 - val_accuracy: 0.9806\n",
      "Epoch 99/100\n",
      "258/258 [==============================] - ETA: 0s - loss: 0.0328 - accuracy: 0.9895\n",
      "Epoch 00099: val_loss did not improve from 0.03344\n",
      "258/258 [==============================] - 50s 194ms/step - loss: 0.0328 - accuracy: 0.9895 - val_loss: 0.1398 - val_accuracy: 0.9840\n",
      "Epoch 100/100\n",
      "258/258 [==============================] - ETA: 0s - loss: 0.0304 - accuracy: 0.9904\n",
      "Epoch 00100: val_loss did not improve from 0.03344\n",
      "258/258 [==============================] - 49s 191ms/step - loss: 0.0304 - accuracy: 0.9904 - val_loss: 0.1474 - val_accuracy: 0.9830\n",
      "Training finished.\n",
      "Loading the best model...\n",
      "Best model loaded!\n",
      "CPU times: user 5h 48min 12s, sys: 53min 39s, total: 6h 41min 51s\n",
      "Wall time: 1h 22min 57s\n"
     ]
    }
   ],
   "source": [
    "%%time\n",
    "\n",
    "best_model_file = \"disease_selected_100.h5\" #H5 for arrays\n",
    "best_model = ModelCheckpoint(best_model_file, monitor='val_loss', verbose=1, save_best_only=True)\n",
    "\n",
    "# fit the model\n",
    "print('Training model...')\n",
    "results = model.fit(X_train, Y_train, epochs=100, batch_size=64, validation_data=(X_val, Y_val), callbacks=[best_model])\n",
    "print('Training finished.')\n",
    "\n",
    "# save the best model\n",
    "print('Loading the best model...')\n",
    "model = load_model(best_model_file)\n",
    "print('Best model loaded!')"
   ]
  },
  {
   "cell_type": "code",
   "execution_count": 63,
   "metadata": {},
   "outputs": [
    {
     "output_type": "stream",
     "name": "stdout",
     "text": [
      "Best model loaded!\n"
     ]
    }
   ],
   "source": [
    "model = load_model('/Users/Tara8082/GIT/ProjectGIT/project_5/disease_selected_100.h5')\n",
    "print('Best model loaded!')"
   ]
  },
  {
   "cell_type": "code",
   "execution_count": 69,
   "metadata": {},
   "outputs": [
    {
     "output_type": "stream",
     "name": "stdout",
     "text": [
      "65/65 [==============================] - 1s 22ms/step - loss: 0.0327 - accuracy: 0.9927\n"
     ]
    }
   ],
   "source": [
    "# evaluate model\n",
    "test = model.evaluate(X_test, Y_test)"
   ]
  },
  {
   "cell_type": "code",
   "execution_count": null,
   "metadata": {},
   "outputs": [],
   "source": [
    "acc = results.history['accuracy']\n",
    "val_acc = results.history['val_accuracy']\n",
    "loss = results.history['loss']\n",
    "val_loss = results.history['val_loss']\n",
    "epochs = range(1, len(acc) + 1)\n",
    "\n",
    "#Train and validation accuracy\n",
    "plt.plot(epochs, acc, 'b', label='Training accurarcy')\n",
    "plt.plot(epochs, val_acc, 'r', label='Validation accurarcy')\n",
    "plt.title('Training and Validation accurarcy')\n",
    "plt.legend()\n",
    "\n",
    "plt.figure()\n",
    "#Train and validation loss\n",
    "plt.plot(epochs, loss, 'b', label='Training loss')\n",
    "plt.plot(epochs, val_loss, 'r', label='Validation loss')\n",
    "plt.title('Training and Validation loss')\n",
    "plt.legend()\n",
    "plt.show()"
   ]
  },
  {
   "cell_type": "code",
   "execution_count": 67,
   "metadata": {},
   "outputs": [
    {
     "output_type": "display_data",
     "data": {
      "text/plain": "<Figure size 432x288 with 1 Axes>",
      "image/svg+xml": "<?xml version=\"1.0\" encoding=\"utf-8\" standalone=\"no\"?>\n<!DOCTYPE svg PUBLIC \"-//W3C//DTD SVG 1.1//EN\"\n  \"http://www.w3.org/Graphics/SVG/1.1/DTD/svg11.dtd\">\n<!-- Created with matplotlib (https://matplotlib.org/) -->\n<svg height=\"263.63625pt\" version=\"1.1\" viewBox=\"0 0 384.828125 263.63625\" width=\"384.828125pt\" xmlns=\"http://www.w3.org/2000/svg\" xmlns:xlink=\"http://www.w3.org/1999/xlink\">\n <defs>\n  <style type=\"text/css\">\n*{stroke-linecap:butt;stroke-linejoin:round;}\n  </style>\n </defs>\n <g id=\"figure_1\">\n  <g id=\"patch_1\">\n   <path d=\"M 0 263.63625 \nL 384.828125 263.63625 \nL 384.828125 0 \nL 0 0 \nz\n\" style=\"fill:none;\"/>\n  </g>\n  <g id=\"axes_1\">\n   <g id=\"patch_2\">\n    <path d=\"M 42.828125 239.758125 \nL 377.628125 239.758125 \nL 377.628125 22.318125 \nL 42.828125 22.318125 \nz\n\" style=\"fill:#ffffff;\"/>\n   </g>\n   <g id=\"matplotlib.axis_1\">\n    <g id=\"xtick_1\">\n     <g id=\"line2d_1\">\n      <defs>\n       <path d=\"M 0 0 \nL 0 3.5 \n\" id=\"m5091f77d1f\" style=\"stroke:#000000;stroke-width:0.8;\"/>\n      </defs>\n      <g>\n       <use style=\"stroke:#000000;stroke-width:0.8;\" x=\"54.971927\" xlink:href=\"#m5091f77d1f\" y=\"239.758125\"/>\n      </g>\n     </g>\n     <g id=\"text_1\">\n      <!-- 0 -->\n      <defs>\n       <path d=\"M 31.78125 66.40625 \nQ 24.171875 66.40625 20.328125 58.90625 \nQ 16.5 51.421875 16.5 36.375 \nQ 16.5 21.390625 20.328125 13.890625 \nQ 24.171875 6.390625 31.78125 6.390625 \nQ 39.453125 6.390625 43.28125 13.890625 \nQ 47.125 21.390625 47.125 36.375 \nQ 47.125 51.421875 43.28125 58.90625 \nQ 39.453125 66.40625 31.78125 66.40625 \nz\nM 31.78125 74.21875 \nQ 44.046875 74.21875 50.515625 64.515625 \nQ 56.984375 54.828125 56.984375 36.375 \nQ 56.984375 17.96875 50.515625 8.265625 \nQ 44.046875 -1.421875 31.78125 -1.421875 \nQ 19.53125 -1.421875 13.0625 8.265625 \nQ 6.59375 17.96875 6.59375 36.375 \nQ 6.59375 54.828125 13.0625 64.515625 \nQ 19.53125 74.21875 31.78125 74.21875 \nz\n\" id=\"DejaVuSans-48\"/>\n      </defs>\n      <g transform=\"translate(51.790677 254.356563)scale(0.1 -0.1)\">\n       <use xlink:href=\"#DejaVuSans-48\"/>\n      </g>\n     </g>\n    </g>\n    <g id=\"xtick_2\">\n     <g id=\"line2d_2\">\n      <g>\n       <use style=\"stroke:#000000;stroke-width:0.8;\" x=\"116.45953\" xlink:href=\"#m5091f77d1f\" y=\"239.758125\"/>\n      </g>\n     </g>\n     <g id=\"text_2\">\n      <!-- 20 -->\n      <defs>\n       <path d=\"M 19.1875 8.296875 \nL 53.609375 8.296875 \nL 53.609375 0 \nL 7.328125 0 \nL 7.328125 8.296875 \nQ 12.9375 14.109375 22.625 23.890625 \nQ 32.328125 33.6875 34.8125 36.53125 \nQ 39.546875 41.84375 41.421875 45.53125 \nQ 43.3125 49.21875 43.3125 52.78125 \nQ 43.3125 58.59375 39.234375 62.25 \nQ 35.15625 65.921875 28.609375 65.921875 \nQ 23.96875 65.921875 18.8125 64.3125 \nQ 13.671875 62.703125 7.8125 59.421875 \nL 7.8125 69.390625 \nQ 13.765625 71.78125 18.9375 73 \nQ 24.125 74.21875 28.421875 74.21875 \nQ 39.75 74.21875 46.484375 68.546875 \nQ 53.21875 62.890625 53.21875 53.421875 \nQ 53.21875 48.921875 51.53125 44.890625 \nQ 49.859375 40.875 45.40625 35.40625 \nQ 44.1875 33.984375 37.640625 27.21875 \nQ 31.109375 20.453125 19.1875 8.296875 \nz\n\" id=\"DejaVuSans-50\"/>\n      </defs>\n      <g transform=\"translate(110.09703 254.356563)scale(0.1 -0.1)\">\n       <use xlink:href=\"#DejaVuSans-50\"/>\n       <use x=\"63.623047\" xlink:href=\"#DejaVuSans-48\"/>\n      </g>\n     </g>\n    </g>\n    <g id=\"xtick_3\">\n     <g id=\"line2d_3\">\n      <g>\n       <use style=\"stroke:#000000;stroke-width:0.8;\" x=\"177.947133\" xlink:href=\"#m5091f77d1f\" y=\"239.758125\"/>\n      </g>\n     </g>\n     <g id=\"text_3\">\n      <!-- 40 -->\n      <defs>\n       <path d=\"M 37.796875 64.3125 \nL 12.890625 25.390625 \nL 37.796875 25.390625 \nz\nM 35.203125 72.90625 \nL 47.609375 72.90625 \nL 47.609375 25.390625 \nL 58.015625 25.390625 \nL 58.015625 17.1875 \nL 47.609375 17.1875 \nL 47.609375 0 \nL 37.796875 0 \nL 37.796875 17.1875 \nL 4.890625 17.1875 \nL 4.890625 26.703125 \nz\n\" id=\"DejaVuSans-52\"/>\n      </defs>\n      <g transform=\"translate(171.584633 254.356563)scale(0.1 -0.1)\">\n       <use xlink:href=\"#DejaVuSans-52\"/>\n       <use x=\"63.623047\" xlink:href=\"#DejaVuSans-48\"/>\n      </g>\n     </g>\n    </g>\n    <g id=\"xtick_4\">\n     <g id=\"line2d_4\">\n      <g>\n       <use style=\"stroke:#000000;stroke-width:0.8;\" x=\"239.434737\" xlink:href=\"#m5091f77d1f\" y=\"239.758125\"/>\n      </g>\n     </g>\n     <g id=\"text_4\">\n      <!-- 60 -->\n      <defs>\n       <path d=\"M 33.015625 40.375 \nQ 26.375 40.375 22.484375 35.828125 \nQ 18.609375 31.296875 18.609375 23.390625 \nQ 18.609375 15.53125 22.484375 10.953125 \nQ 26.375 6.390625 33.015625 6.390625 \nQ 39.65625 6.390625 43.53125 10.953125 \nQ 47.40625 15.53125 47.40625 23.390625 \nQ 47.40625 31.296875 43.53125 35.828125 \nQ 39.65625 40.375 33.015625 40.375 \nz\nM 52.59375 71.296875 \nL 52.59375 62.3125 \nQ 48.875 64.0625 45.09375 64.984375 \nQ 41.3125 65.921875 37.59375 65.921875 \nQ 27.828125 65.921875 22.671875 59.328125 \nQ 17.53125 52.734375 16.796875 39.40625 \nQ 19.671875 43.65625 24.015625 45.921875 \nQ 28.375 48.1875 33.59375 48.1875 \nQ 44.578125 48.1875 50.953125 41.515625 \nQ 57.328125 34.859375 57.328125 23.390625 \nQ 57.328125 12.15625 50.6875 5.359375 \nQ 44.046875 -1.421875 33.015625 -1.421875 \nQ 20.359375 -1.421875 13.671875 8.265625 \nQ 6.984375 17.96875 6.984375 36.375 \nQ 6.984375 53.65625 15.1875 63.9375 \nQ 23.390625 74.21875 37.203125 74.21875 \nQ 40.921875 74.21875 44.703125 73.484375 \nQ 48.484375 72.75 52.59375 71.296875 \nz\n\" id=\"DejaVuSans-54\"/>\n      </defs>\n      <g transform=\"translate(233.072237 254.356563)scale(0.1 -0.1)\">\n       <use xlink:href=\"#DejaVuSans-54\"/>\n       <use x=\"63.623047\" xlink:href=\"#DejaVuSans-48\"/>\n      </g>\n     </g>\n    </g>\n    <g id=\"xtick_5\">\n     <g id=\"line2d_5\">\n      <g>\n       <use style=\"stroke:#000000;stroke-width:0.8;\" x=\"300.92234\" xlink:href=\"#m5091f77d1f\" y=\"239.758125\"/>\n      </g>\n     </g>\n     <g id=\"text_5\">\n      <!-- 80 -->\n      <defs>\n       <path d=\"M 31.78125 34.625 \nQ 24.75 34.625 20.71875 30.859375 \nQ 16.703125 27.09375 16.703125 20.515625 \nQ 16.703125 13.921875 20.71875 10.15625 \nQ 24.75 6.390625 31.78125 6.390625 \nQ 38.8125 6.390625 42.859375 10.171875 \nQ 46.921875 13.96875 46.921875 20.515625 \nQ 46.921875 27.09375 42.890625 30.859375 \nQ 38.875 34.625 31.78125 34.625 \nz\nM 21.921875 38.8125 \nQ 15.578125 40.375 12.03125 44.71875 \nQ 8.5 49.078125 8.5 55.328125 \nQ 8.5 64.0625 14.71875 69.140625 \nQ 20.953125 74.21875 31.78125 74.21875 \nQ 42.671875 74.21875 48.875 69.140625 \nQ 55.078125 64.0625 55.078125 55.328125 \nQ 55.078125 49.078125 51.53125 44.71875 \nQ 48 40.375 41.703125 38.8125 \nQ 48.828125 37.15625 52.796875 32.3125 \nQ 56.78125 27.484375 56.78125 20.515625 \nQ 56.78125 9.90625 50.3125 4.234375 \nQ 43.84375 -1.421875 31.78125 -1.421875 \nQ 19.734375 -1.421875 13.25 4.234375 \nQ 6.78125 9.90625 6.78125 20.515625 \nQ 6.78125 27.484375 10.78125 32.3125 \nQ 14.796875 37.15625 21.921875 38.8125 \nz\nM 18.3125 54.390625 \nQ 18.3125 48.734375 21.84375 45.5625 \nQ 25.390625 42.390625 31.78125 42.390625 \nQ 38.140625 42.390625 41.71875 45.5625 \nQ 45.3125 48.734375 45.3125 54.390625 \nQ 45.3125 60.0625 41.71875 63.234375 \nQ 38.140625 66.40625 31.78125 66.40625 \nQ 25.390625 66.40625 21.84375 63.234375 \nQ 18.3125 60.0625 18.3125 54.390625 \nz\n\" id=\"DejaVuSans-56\"/>\n      </defs>\n      <g transform=\"translate(294.55984 254.356563)scale(0.1 -0.1)\">\n       <use xlink:href=\"#DejaVuSans-56\"/>\n       <use x=\"63.623047\" xlink:href=\"#DejaVuSans-48\"/>\n      </g>\n     </g>\n    </g>\n    <g id=\"xtick_6\">\n     <g id=\"line2d_6\">\n      <g>\n       <use style=\"stroke:#000000;stroke-width:0.8;\" x=\"362.409943\" xlink:href=\"#m5091f77d1f\" y=\"239.758125\"/>\n      </g>\n     </g>\n     <g id=\"text_6\">\n      <!-- 100 -->\n      <defs>\n       <path d=\"M 12.40625 8.296875 \nL 28.515625 8.296875 \nL 28.515625 63.921875 \nL 10.984375 60.40625 \nL 10.984375 69.390625 \nL 28.421875 72.90625 \nL 38.28125 72.90625 \nL 38.28125 8.296875 \nL 54.390625 8.296875 \nL 54.390625 0 \nL 12.40625 0 \nz\n\" id=\"DejaVuSans-49\"/>\n      </defs>\n      <g transform=\"translate(352.866193 254.356563)scale(0.1 -0.1)\">\n       <use xlink:href=\"#DejaVuSans-49\"/>\n       <use x=\"63.623047\" xlink:href=\"#DejaVuSans-48\"/>\n       <use x=\"127.246094\" xlink:href=\"#DejaVuSans-48\"/>\n      </g>\n     </g>\n    </g>\n   </g>\n   <g id=\"matplotlib.axis_2\">\n    <g id=\"ytick_1\">\n     <g id=\"line2d_7\">\n      <defs>\n       <path d=\"M 0 0 \nL -3.5 0 \n\" id=\"m3e4f9974be\" style=\"stroke:#000000;stroke-width:0.8;\"/>\n      </defs>\n      <g>\n       <use style=\"stroke:#000000;stroke-width:0.8;\" x=\"42.828125\" xlink:href=\"#m3e4f9974be\" y=\"218.112525\"/>\n      </g>\n     </g>\n     <g id=\"text_7\">\n      <!-- 0.960 -->\n      <defs>\n       <path d=\"M 10.6875 12.40625 \nL 21 12.40625 \nL 21 0 \nL 10.6875 0 \nz\n\" id=\"DejaVuSans-46\"/>\n       <path d=\"M 10.984375 1.515625 \nL 10.984375 10.5 \nQ 14.703125 8.734375 18.5 7.8125 \nQ 22.3125 6.890625 25.984375 6.890625 \nQ 35.75 6.890625 40.890625 13.453125 \nQ 46.046875 20.015625 46.78125 33.40625 \nQ 43.953125 29.203125 39.59375 26.953125 \nQ 35.25 24.703125 29.984375 24.703125 \nQ 19.046875 24.703125 12.671875 31.3125 \nQ 6.296875 37.9375 6.296875 49.421875 \nQ 6.296875 60.640625 12.9375 67.421875 \nQ 19.578125 74.21875 30.609375 74.21875 \nQ 43.265625 74.21875 49.921875 64.515625 \nQ 56.59375 54.828125 56.59375 36.375 \nQ 56.59375 19.140625 48.40625 8.859375 \nQ 40.234375 -1.421875 26.421875 -1.421875 \nQ 22.703125 -1.421875 18.890625 -0.6875 \nQ 15.09375 0.046875 10.984375 1.515625 \nz\nM 30.609375 32.421875 \nQ 37.25 32.421875 41.125 36.953125 \nQ 45.015625 41.5 45.015625 49.421875 \nQ 45.015625 57.28125 41.125 61.84375 \nQ 37.25 66.40625 30.609375 66.40625 \nQ 23.96875 66.40625 20.09375 61.84375 \nQ 16.21875 57.28125 16.21875 49.421875 \nQ 16.21875 41.5 20.09375 36.953125 \nQ 23.96875 32.421875 30.609375 32.421875 \nz\n\" id=\"DejaVuSans-57\"/>\n      </defs>\n      <g transform=\"translate(7.2 221.911743)scale(0.1 -0.1)\">\n       <use xlink:href=\"#DejaVuSans-48\"/>\n       <use x=\"63.623047\" xlink:href=\"#DejaVuSans-46\"/>\n       <use x=\"95.410156\" xlink:href=\"#DejaVuSans-57\"/>\n       <use x=\"159.033203\" xlink:href=\"#DejaVuSans-54\"/>\n       <use x=\"222.65625\" xlink:href=\"#DejaVuSans-48\"/>\n      </g>\n     </g>\n    </g>\n    <g id=\"ytick_2\">\n     <g id=\"line2d_8\">\n      <g>\n       <use style=\"stroke:#000000;stroke-width:0.8;\" x=\"42.828125\" xlink:href=\"#m3e4f9974be\" y=\"189.287415\"/>\n      </g>\n     </g>\n     <g id=\"text_8\">\n      <!-- 0.965 -->\n      <defs>\n       <path d=\"M 10.796875 72.90625 \nL 49.515625 72.90625 \nL 49.515625 64.59375 \nL 19.828125 64.59375 \nL 19.828125 46.734375 \nQ 21.96875 47.46875 24.109375 47.828125 \nQ 26.265625 48.1875 28.421875 48.1875 \nQ 40.625 48.1875 47.75 41.5 \nQ 54.890625 34.8125 54.890625 23.390625 \nQ 54.890625 11.625 47.5625 5.09375 \nQ 40.234375 -1.421875 26.90625 -1.421875 \nQ 22.3125 -1.421875 17.546875 -0.640625 \nQ 12.796875 0.140625 7.71875 1.703125 \nL 7.71875 11.625 \nQ 12.109375 9.234375 16.796875 8.0625 \nQ 21.484375 6.890625 26.703125 6.890625 \nQ 35.15625 6.890625 40.078125 11.328125 \nQ 45.015625 15.765625 45.015625 23.390625 \nQ 45.015625 31 40.078125 35.4375 \nQ 35.15625 39.890625 26.703125 39.890625 \nQ 22.75 39.890625 18.8125 39.015625 \nQ 14.890625 38.140625 10.796875 36.28125 \nz\n\" id=\"DejaVuSans-53\"/>\n      </defs>\n      <g transform=\"translate(7.2 193.086634)scale(0.1 -0.1)\">\n       <use xlink:href=\"#DejaVuSans-48\"/>\n       <use x=\"63.623047\" xlink:href=\"#DejaVuSans-46\"/>\n       <use x=\"95.410156\" xlink:href=\"#DejaVuSans-57\"/>\n       <use x=\"159.033203\" xlink:href=\"#DejaVuSans-54\"/>\n       <use x=\"222.65625\" xlink:href=\"#DejaVuSans-53\"/>\n      </g>\n     </g>\n    </g>\n    <g id=\"ytick_3\">\n     <g id=\"line2d_9\">\n      <g>\n       <use style=\"stroke:#000000;stroke-width:0.8;\" x=\"42.828125\" xlink:href=\"#m3e4f9974be\" y=\"160.462305\"/>\n      </g>\n     </g>\n     <g id=\"text_9\">\n      <!-- 0.970 -->\n      <defs>\n       <path d=\"M 8.203125 72.90625 \nL 55.078125 72.90625 \nL 55.078125 68.703125 \nL 28.609375 0 \nL 18.3125 0 \nL 43.21875 64.59375 \nL 8.203125 64.59375 \nz\n\" id=\"DejaVuSans-55\"/>\n      </defs>\n      <g transform=\"translate(7.2 164.261524)scale(0.1 -0.1)\">\n       <use xlink:href=\"#DejaVuSans-48\"/>\n       <use x=\"63.623047\" xlink:href=\"#DejaVuSans-46\"/>\n       <use x=\"95.410156\" xlink:href=\"#DejaVuSans-57\"/>\n       <use x=\"159.033203\" xlink:href=\"#DejaVuSans-55\"/>\n       <use x=\"222.65625\" xlink:href=\"#DejaVuSans-48\"/>\n      </g>\n     </g>\n    </g>\n    <g id=\"ytick_4\">\n     <g id=\"line2d_10\">\n      <g>\n       <use style=\"stroke:#000000;stroke-width:0.8;\" x=\"42.828125\" xlink:href=\"#m3e4f9974be\" y=\"131.637196\"/>\n      </g>\n     </g>\n     <g id=\"text_10\">\n      <!-- 0.975 -->\n      <g transform=\"translate(7.2 135.436414)scale(0.1 -0.1)\">\n       <use xlink:href=\"#DejaVuSans-48\"/>\n       <use x=\"63.623047\" xlink:href=\"#DejaVuSans-46\"/>\n       <use x=\"95.410156\" xlink:href=\"#DejaVuSans-57\"/>\n       <use x=\"159.033203\" xlink:href=\"#DejaVuSans-55\"/>\n       <use x=\"222.65625\" xlink:href=\"#DejaVuSans-53\"/>\n      </g>\n     </g>\n    </g>\n    <g id=\"ytick_5\">\n     <g id=\"line2d_11\">\n      <g>\n       <use style=\"stroke:#000000;stroke-width:0.8;\" x=\"42.828125\" xlink:href=\"#m3e4f9974be\" y=\"102.812086\"/>\n      </g>\n     </g>\n     <g id=\"text_11\">\n      <!-- 0.980 -->\n      <g transform=\"translate(7.2 106.611305)scale(0.1 -0.1)\">\n       <use xlink:href=\"#DejaVuSans-48\"/>\n       <use x=\"63.623047\" xlink:href=\"#DejaVuSans-46\"/>\n       <use x=\"95.410156\" xlink:href=\"#DejaVuSans-57\"/>\n       <use x=\"159.033203\" xlink:href=\"#DejaVuSans-56\"/>\n       <use x=\"222.65625\" xlink:href=\"#DejaVuSans-48\"/>\n      </g>\n     </g>\n    </g>\n    <g id=\"ytick_6\">\n     <g id=\"line2d_12\">\n      <g>\n       <use style=\"stroke:#000000;stroke-width:0.8;\" x=\"42.828125\" xlink:href=\"#m3e4f9974be\" y=\"73.986976\"/>\n      </g>\n     </g>\n     <g id=\"text_12\">\n      <!-- 0.985 -->\n      <g transform=\"translate(7.2 77.786195)scale(0.1 -0.1)\">\n       <use xlink:href=\"#DejaVuSans-48\"/>\n       <use x=\"63.623047\" xlink:href=\"#DejaVuSans-46\"/>\n       <use x=\"95.410156\" xlink:href=\"#DejaVuSans-57\"/>\n       <use x=\"159.033203\" xlink:href=\"#DejaVuSans-56\"/>\n       <use x=\"222.65625\" xlink:href=\"#DejaVuSans-53\"/>\n      </g>\n     </g>\n    </g>\n    <g id=\"ytick_7\">\n     <g id=\"line2d_13\">\n      <g>\n       <use style=\"stroke:#000000;stroke-width:0.8;\" x=\"42.828125\" xlink:href=\"#m3e4f9974be\" y=\"45.161867\"/>\n      </g>\n     </g>\n     <g id=\"text_13\">\n      <!-- 0.990 -->\n      <g transform=\"translate(7.2 48.961086)scale(0.1 -0.1)\">\n       <use xlink:href=\"#DejaVuSans-48\"/>\n       <use x=\"63.623047\" xlink:href=\"#DejaVuSans-46\"/>\n       <use x=\"95.410156\" xlink:href=\"#DejaVuSans-57\"/>\n       <use x=\"159.033203\" xlink:href=\"#DejaVuSans-57\"/>\n       <use x=\"222.65625\" xlink:href=\"#DejaVuSans-48\"/>\n      </g>\n     </g>\n    </g>\n   </g>\n   <g id=\"line2d_14\">\n    <path clip-path=\"url(#p05674cef46)\" d=\"M 58.046307 229.874489 \nL 61.120687 175.395269 \nL 64.195067 159.330937 \nL 67.269447 143.26626 \nL 70.343827 133.48815 \nL 73.418208 135.234094 \nL 76.492588 153.743298 \nL 79.566968 129.646456 \nL 82.641348 129.646456 \nL 85.715728 140.821733 \nL 88.790108 112.883883 \nL 91.864489 123.709697 \nL 94.938869 99.962318 \nL 98.013249 104.153133 \nL 101.087629 110.089892 \nL 104.162009 92.628736 \nL 107.236389 101.010022 \nL 110.31077 107.645364 \nL 113.38515 93.326976 \nL 116.45953 114.978947 \nL 119.53391 93.676439 \nL 122.60829 81.104338 \nL 125.68267 94.37468 \nL 128.757051 83.199402 \nL 131.831431 85.644273 \nL 134.905811 87.041097 \nL 137.980191 79.008931 \nL 141.054571 89.136504 \nL 144.128951 89.834745 \nL 147.203332 81.104338 \nL 150.277712 80.405755 \nL 153.352092 76.21494 \nL 156.426472 83.199402 \nL 159.500852 73.072172 \nL 162.575232 74.119532 \nL 165.649613 89.136504 \nL 168.723993 61.896895 \nL 171.798373 68.532237 \nL 174.872753 68.532237 \nL 177.947133 76.21494 \nL 181.021513 72.024468 \nL 184.095894 75.167236 \nL 187.170274 69.929061 \nL 190.244654 60.499727 \nL 193.319034 84.596569 \nL 196.393414 56.309256 \nL 199.467794 67.833653 \nL 202.542175 74.119532 \nL 205.616555 63.293718 \nL 208.690935 66.43683 \nL 211.765315 61.896895 \nL 214.839695 68.881357 \nL 217.914075 54.562968 \nL 220.988456 67.13507 \nL 224.062836 54.912089 \nL 227.137216 63.293718 \nL 230.211596 66.78595 \nL 233.285976 69.230477 \nL 236.360356 68.182773 \nL 239.434737 55.261552 \nL 242.509117 65.389126 \nL 245.583497 67.833653 \nL 248.657877 51.070737 \nL 251.732257 44.086275 \nL 254.806637 56.309256 \nL 257.881018 60.849191 \nL 260.955398 60.499727 \nL 264.029778 52.817025 \nL 267.104158 57.35696 \nL 270.178538 59.102903 \nL 273.252918 59.801487 \nL 276.327299 79.707171 \nL 279.401679 42.339987 \nL 282.476059 48.27709 \nL 285.550439 45.832219 \nL 288.624819 70.627301 \nL 291.699199 50.023034 \nL 294.77358 37.450932 \nL 297.84796 43.737155 \nL 300.92234 52.817025 \nL 303.99672 75.167236 \nL 307.0711 38.498636 \nL 310.14548 51.769321 \nL 313.219861 49.324793 \nL 316.294241 46.879922 \nL 319.368621 48.62621 \nL 322.443001 46.879922 \nL 325.517381 35.704989 \nL 328.591761 54.562968 \nL 331.666142 49.324793 \nL 334.740522 48.97533 \nL 337.814902 53.864728 \nL 340.889282 42.689451 \nL 343.963662 48.62621 \nL 347.038042 43.737155 \nL 350.112423 33.609581 \nL 353.186803 64.341422 \nL 356.261183 57.007496 \nL 359.335563 47.927626 \nL 362.409943 42.689451 \n\" style=\"fill:none;stroke:#0000ff;stroke-linecap:square;stroke-width:1.5;\"/>\n   </g>\n   <g id=\"line2d_15\">\n    <path clip-path=\"url(#p05674cef46)\" d=\"M 58.046307 37.788026 \nL 61.120687 43.37429 \nL 64.195067 51.753514 \nL 67.269447 37.788026 \nL 70.343827 54.546818 \nL 73.418208 54.546818 \nL 76.492588 40.580986 \nL 79.566968 85.2711 \nL 82.641348 68.512307 \nL 85.715728 48.960554 \nL 88.790108 43.37429 \nL 91.864489 32.201761 \nL 94.938869 51.753514 \nL 98.013249 71.305611 \nL 101.087629 57.339779 \nL 104.162009 51.753514 \nL 107.236389 85.2711 \nL 110.31077 62.926043 \nL 113.38515 65.719347 \nL 116.45953 57.339779 \nL 119.53391 60.133082 \nL 122.60829 60.133082 \nL 125.68267 43.37429 \nL 128.757051 51.753514 \nL 131.831431 48.960554 \nL 134.905811 51.753514 \nL 137.980191 37.788026 \nL 141.054571 46.16725 \nL 144.128951 68.512307 \nL 147.203332 71.305611 \nL 150.277712 62.926043 \nL 153.352092 57.339779 \nL 156.426472 65.719347 \nL 159.500852 57.339779 \nL 162.575232 79.684835 \nL 165.649613 93.650668 \nL 168.723993 57.339779 \nL 171.798373 74.098571 \nL 174.872753 62.926043 \nL 177.947133 60.133082 \nL 181.021513 71.305611 \nL 184.095894 129.961213 \nL 187.170274 54.546818 \nL 190.244654 85.2711 \nL 193.319034 79.684835 \nL 196.393414 71.305611 \nL 199.467794 88.064404 \nL 202.542175 68.512307 \nL 205.616555 82.478139 \nL 208.690935 62.926043 \nL 211.765315 57.339779 \nL 214.839695 74.098571 \nL 217.914075 65.719347 \nL 220.988456 82.478139 \nL 224.062836 74.098571 \nL 227.137216 65.719347 \nL 230.211596 113.202421 \nL 233.285976 76.891875 \nL 236.360356 99.236932 \nL 239.434737 71.305611 \nL 242.509117 68.512307 \nL 245.583497 85.2711 \nL 248.657877 76.891875 \nL 251.732257 90.857364 \nL 254.806637 96.443628 \nL 257.881018 71.305611 \nL 260.955398 96.443628 \nL 264.029778 79.684835 \nL 267.104158 57.339779 \nL 270.178538 65.719347 \nL 273.252918 54.546818 \nL 276.327299 68.512307 \nL 279.401679 60.133082 \nL 282.476059 65.719347 \nL 285.550439 65.719347 \nL 288.624819 71.305611 \nL 291.699199 76.891875 \nL 294.77358 85.2711 \nL 297.84796 68.512307 \nL 300.92234 96.443628 \nL 303.99672 93.650668 \nL 307.0711 82.478139 \nL 310.14548 90.857364 \nL 313.219861 96.443628 \nL 316.294241 79.684835 \nL 319.368621 107.616157 \nL 322.443001 76.891875 \nL 325.517381 74.098571 \nL 328.591761 88.064404 \nL 331.666142 79.684835 \nL 334.740522 79.684835 \nL 337.814902 74.098571 \nL 340.889282 110.40946 \nL 343.963662 85.2711 \nL 347.038042 85.2711 \nL 350.112423 90.857364 \nL 353.186803 79.684835 \nL 356.261183 99.236932 \nL 359.335563 79.684835 \nL 362.409943 85.2711 \n\" style=\"fill:none;stroke:#ff0000;stroke-linecap:square;stroke-width:1.5;\"/>\n   </g>\n   <g id=\"patch_3\">\n    <path d=\"M 42.828125 239.758125 \nL 42.828125 22.318125 \n\" style=\"fill:none;stroke:#000000;stroke-linecap:square;stroke-linejoin:miter;stroke-width:0.8;\"/>\n   </g>\n   <g id=\"patch_4\">\n    <path d=\"M 377.628125 239.758125 \nL 377.628125 22.318125 \n\" style=\"fill:none;stroke:#000000;stroke-linecap:square;stroke-linejoin:miter;stroke-width:0.8;\"/>\n   </g>\n   <g id=\"patch_5\">\n    <path d=\"M 42.828125 239.758125 \nL 377.628125 239.758125 \n\" style=\"fill:none;stroke:#000000;stroke-linecap:square;stroke-linejoin:miter;stroke-width:0.8;\"/>\n   </g>\n   <g id=\"patch_6\">\n    <path d=\"M 42.828125 22.318125 \nL 377.628125 22.318125 \n\" style=\"fill:none;stroke:#000000;stroke-linecap:square;stroke-linejoin:miter;stroke-width:0.8;\"/>\n   </g>\n   <g id=\"text_14\">\n    <!-- Training and Validation accurarcy -->\n    <defs>\n     <path d=\"M -0.296875 72.90625 \nL 61.375 72.90625 \nL 61.375 64.59375 \nL 35.5 64.59375 \nL 35.5 0 \nL 25.59375 0 \nL 25.59375 64.59375 \nL -0.296875 64.59375 \nz\n\" id=\"DejaVuSans-84\"/>\n     <path d=\"M 41.109375 46.296875 \nQ 39.59375 47.171875 37.8125 47.578125 \nQ 36.03125 48 33.890625 48 \nQ 26.265625 48 22.1875 43.046875 \nQ 18.109375 38.09375 18.109375 28.8125 \nL 18.109375 0 \nL 9.078125 0 \nL 9.078125 54.6875 \nL 18.109375 54.6875 \nL 18.109375 46.1875 \nQ 20.953125 51.171875 25.484375 53.578125 \nQ 30.03125 56 36.53125 56 \nQ 37.453125 56 38.578125 55.875 \nQ 39.703125 55.765625 41.0625 55.515625 \nz\n\" id=\"DejaVuSans-114\"/>\n     <path d=\"M 34.28125 27.484375 \nQ 23.390625 27.484375 19.1875 25 \nQ 14.984375 22.515625 14.984375 16.5 \nQ 14.984375 11.71875 18.140625 8.90625 \nQ 21.296875 6.109375 26.703125 6.109375 \nQ 34.1875 6.109375 38.703125 11.40625 \nQ 43.21875 16.703125 43.21875 25.484375 \nL 43.21875 27.484375 \nz\nM 52.203125 31.203125 \nL 52.203125 0 \nL 43.21875 0 \nL 43.21875 8.296875 \nQ 40.140625 3.328125 35.546875 0.953125 \nQ 30.953125 -1.421875 24.3125 -1.421875 \nQ 15.921875 -1.421875 10.953125 3.296875 \nQ 6 8.015625 6 15.921875 \nQ 6 25.140625 12.171875 29.828125 \nQ 18.359375 34.515625 30.609375 34.515625 \nL 43.21875 34.515625 \nL 43.21875 35.40625 \nQ 43.21875 41.609375 39.140625 45 \nQ 35.0625 48.390625 27.6875 48.390625 \nQ 23 48.390625 18.546875 47.265625 \nQ 14.109375 46.140625 10.015625 43.890625 \nL 10.015625 52.203125 \nQ 14.9375 54.109375 19.578125 55.046875 \nQ 24.21875 56 28.609375 56 \nQ 40.484375 56 46.34375 49.84375 \nQ 52.203125 43.703125 52.203125 31.203125 \nz\n\" id=\"DejaVuSans-97\"/>\n     <path d=\"M 9.421875 54.6875 \nL 18.40625 54.6875 \nL 18.40625 0 \nL 9.421875 0 \nz\nM 9.421875 75.984375 \nL 18.40625 75.984375 \nL 18.40625 64.59375 \nL 9.421875 64.59375 \nz\n\" id=\"DejaVuSans-105\"/>\n     <path d=\"M 54.890625 33.015625 \nL 54.890625 0 \nL 45.90625 0 \nL 45.90625 32.71875 \nQ 45.90625 40.484375 42.875 44.328125 \nQ 39.84375 48.1875 33.796875 48.1875 \nQ 26.515625 48.1875 22.3125 43.546875 \nQ 18.109375 38.921875 18.109375 30.90625 \nL 18.109375 0 \nL 9.078125 0 \nL 9.078125 54.6875 \nL 18.109375 54.6875 \nL 18.109375 46.1875 \nQ 21.34375 51.125 25.703125 53.5625 \nQ 30.078125 56 35.796875 56 \nQ 45.21875 56 50.046875 50.171875 \nQ 54.890625 44.34375 54.890625 33.015625 \nz\n\" id=\"DejaVuSans-110\"/>\n     <path d=\"M 45.40625 27.984375 \nQ 45.40625 37.75 41.375 43.109375 \nQ 37.359375 48.484375 30.078125 48.484375 \nQ 22.859375 48.484375 18.828125 43.109375 \nQ 14.796875 37.75 14.796875 27.984375 \nQ 14.796875 18.265625 18.828125 12.890625 \nQ 22.859375 7.515625 30.078125 7.515625 \nQ 37.359375 7.515625 41.375 12.890625 \nQ 45.40625 18.265625 45.40625 27.984375 \nz\nM 54.390625 6.78125 \nQ 54.390625 -7.171875 48.1875 -13.984375 \nQ 42 -20.796875 29.203125 -20.796875 \nQ 24.46875 -20.796875 20.265625 -20.09375 \nQ 16.0625 -19.390625 12.109375 -17.921875 \nL 12.109375 -9.1875 \nQ 16.0625 -11.328125 19.921875 -12.34375 \nQ 23.78125 -13.375 27.78125 -13.375 \nQ 36.625 -13.375 41.015625 -8.765625 \nQ 45.40625 -4.15625 45.40625 5.171875 \nL 45.40625 9.625 \nQ 42.625 4.78125 38.28125 2.390625 \nQ 33.9375 0 27.875 0 \nQ 17.828125 0 11.671875 7.65625 \nQ 5.515625 15.328125 5.515625 27.984375 \nQ 5.515625 40.671875 11.671875 48.328125 \nQ 17.828125 56 27.875 56 \nQ 33.9375 56 38.28125 53.609375 \nQ 42.625 51.21875 45.40625 46.390625 \nL 45.40625 54.6875 \nL 54.390625 54.6875 \nz\n\" id=\"DejaVuSans-103\"/>\n     <path id=\"DejaVuSans-32\"/>\n     <path d=\"M 45.40625 46.390625 \nL 45.40625 75.984375 \nL 54.390625 75.984375 \nL 54.390625 0 \nL 45.40625 0 \nL 45.40625 8.203125 \nQ 42.578125 3.328125 38.25 0.953125 \nQ 33.9375 -1.421875 27.875 -1.421875 \nQ 17.96875 -1.421875 11.734375 6.484375 \nQ 5.515625 14.40625 5.515625 27.296875 \nQ 5.515625 40.1875 11.734375 48.09375 \nQ 17.96875 56 27.875 56 \nQ 33.9375 56 38.25 53.625 \nQ 42.578125 51.265625 45.40625 46.390625 \nz\nM 14.796875 27.296875 \nQ 14.796875 17.390625 18.875 11.75 \nQ 22.953125 6.109375 30.078125 6.109375 \nQ 37.203125 6.109375 41.296875 11.75 \nQ 45.40625 17.390625 45.40625 27.296875 \nQ 45.40625 37.203125 41.296875 42.84375 \nQ 37.203125 48.484375 30.078125 48.484375 \nQ 22.953125 48.484375 18.875 42.84375 \nQ 14.796875 37.203125 14.796875 27.296875 \nz\n\" id=\"DejaVuSans-100\"/>\n     <path d=\"M 28.609375 0 \nL 0.78125 72.90625 \nL 11.078125 72.90625 \nL 34.1875 11.53125 \nL 57.328125 72.90625 \nL 67.578125 72.90625 \nL 39.796875 0 \nz\n\" id=\"DejaVuSans-86\"/>\n     <path d=\"M 9.421875 75.984375 \nL 18.40625 75.984375 \nL 18.40625 0 \nL 9.421875 0 \nz\n\" id=\"DejaVuSans-108\"/>\n     <path d=\"M 18.3125 70.21875 \nL 18.3125 54.6875 \nL 36.8125 54.6875 \nL 36.8125 47.703125 \nL 18.3125 47.703125 \nL 18.3125 18.015625 \nQ 18.3125 11.328125 20.140625 9.421875 \nQ 21.96875 7.515625 27.59375 7.515625 \nL 36.8125 7.515625 \nL 36.8125 0 \nL 27.59375 0 \nQ 17.1875 0 13.234375 3.875 \nQ 9.28125 7.765625 9.28125 18.015625 \nL 9.28125 47.703125 \nL 2.6875 47.703125 \nL 2.6875 54.6875 \nL 9.28125 54.6875 \nL 9.28125 70.21875 \nz\n\" id=\"DejaVuSans-116\"/>\n     <path d=\"M 30.609375 48.390625 \nQ 23.390625 48.390625 19.1875 42.75 \nQ 14.984375 37.109375 14.984375 27.296875 \nQ 14.984375 17.484375 19.15625 11.84375 \nQ 23.34375 6.203125 30.609375 6.203125 \nQ 37.796875 6.203125 41.984375 11.859375 \nQ 46.1875 17.53125 46.1875 27.296875 \nQ 46.1875 37.015625 41.984375 42.703125 \nQ 37.796875 48.390625 30.609375 48.390625 \nz\nM 30.609375 56 \nQ 42.328125 56 49.015625 48.375 \nQ 55.71875 40.765625 55.71875 27.296875 \nQ 55.71875 13.875 49.015625 6.21875 \nQ 42.328125 -1.421875 30.609375 -1.421875 \nQ 18.84375 -1.421875 12.171875 6.21875 \nQ 5.515625 13.875 5.515625 27.296875 \nQ 5.515625 40.765625 12.171875 48.375 \nQ 18.84375 56 30.609375 56 \nz\n\" id=\"DejaVuSans-111\"/>\n     <path d=\"M 48.78125 52.59375 \nL 48.78125 44.1875 \nQ 44.96875 46.296875 41.140625 47.34375 \nQ 37.3125 48.390625 33.40625 48.390625 \nQ 24.65625 48.390625 19.8125 42.84375 \nQ 14.984375 37.3125 14.984375 27.296875 \nQ 14.984375 17.28125 19.8125 11.734375 \nQ 24.65625 6.203125 33.40625 6.203125 \nQ 37.3125 6.203125 41.140625 7.25 \nQ 44.96875 8.296875 48.78125 10.40625 \nL 48.78125 2.09375 \nQ 45.015625 0.34375 40.984375 -0.53125 \nQ 36.96875 -1.421875 32.421875 -1.421875 \nQ 20.0625 -1.421875 12.78125 6.34375 \nQ 5.515625 14.109375 5.515625 27.296875 \nQ 5.515625 40.671875 12.859375 48.328125 \nQ 20.21875 56 33.015625 56 \nQ 37.15625 56 41.109375 55.140625 \nQ 45.0625 54.296875 48.78125 52.59375 \nz\n\" id=\"DejaVuSans-99\"/>\n     <path d=\"M 8.5 21.578125 \nL 8.5 54.6875 \nL 17.484375 54.6875 \nL 17.484375 21.921875 \nQ 17.484375 14.15625 20.5 10.265625 \nQ 23.53125 6.390625 29.59375 6.390625 \nQ 36.859375 6.390625 41.078125 11.03125 \nQ 45.3125 15.671875 45.3125 23.6875 \nL 45.3125 54.6875 \nL 54.296875 54.6875 \nL 54.296875 0 \nL 45.3125 0 \nL 45.3125 8.40625 \nQ 42.046875 3.421875 37.71875 1 \nQ 33.40625 -1.421875 27.6875 -1.421875 \nQ 18.265625 -1.421875 13.375 4.4375 \nQ 8.5 10.296875 8.5 21.578125 \nz\nM 31.109375 56 \nz\n\" id=\"DejaVuSans-117\"/>\n     <path d=\"M 32.171875 -5.078125 \nQ 28.375 -14.84375 24.75 -17.8125 \nQ 21.140625 -20.796875 15.09375 -20.796875 \nL 7.90625 -20.796875 \nL 7.90625 -13.28125 \nL 13.1875 -13.28125 \nQ 16.890625 -13.28125 18.9375 -11.515625 \nQ 21 -9.765625 23.484375 -3.21875 \nL 25.09375 0.875 \nL 2.984375 54.6875 \nL 12.5 54.6875 \nL 29.59375 11.921875 \nL 46.6875 54.6875 \nL 56.203125 54.6875 \nz\n\" id=\"DejaVuSans-121\"/>\n    </defs>\n    <g transform=\"translate(110.516563 16.318125)scale(0.12 -0.12)\">\n     <use xlink:href=\"#DejaVuSans-84\"/>\n     <use x=\"46.333984\" xlink:href=\"#DejaVuSans-114\"/>\n     <use x=\"87.447266\" xlink:href=\"#DejaVuSans-97\"/>\n     <use x=\"148.726562\" xlink:href=\"#DejaVuSans-105\"/>\n     <use x=\"176.509766\" xlink:href=\"#DejaVuSans-110\"/>\n     <use x=\"239.888672\" xlink:href=\"#DejaVuSans-105\"/>\n     <use x=\"267.671875\" xlink:href=\"#DejaVuSans-110\"/>\n     <use x=\"331.050781\" xlink:href=\"#DejaVuSans-103\"/>\n     <use x=\"394.527344\" xlink:href=\"#DejaVuSans-32\"/>\n     <use x=\"426.314453\" xlink:href=\"#DejaVuSans-97\"/>\n     <use x=\"487.59375\" xlink:href=\"#DejaVuSans-110\"/>\n     <use x=\"550.972656\" xlink:href=\"#DejaVuSans-100\"/>\n     <use x=\"614.449219\" xlink:href=\"#DejaVuSans-32\"/>\n     <use x=\"646.236328\" xlink:href=\"#DejaVuSans-86\"/>\n     <use x=\"706.894531\" xlink:href=\"#DejaVuSans-97\"/>\n     <use x=\"768.173828\" xlink:href=\"#DejaVuSans-108\"/>\n     <use x=\"795.957031\" xlink:href=\"#DejaVuSans-105\"/>\n     <use x=\"823.740234\" xlink:href=\"#DejaVuSans-100\"/>\n     <use x=\"887.216797\" xlink:href=\"#DejaVuSans-97\"/>\n     <use x=\"948.496094\" xlink:href=\"#DejaVuSans-116\"/>\n     <use x=\"987.705078\" xlink:href=\"#DejaVuSans-105\"/>\n     <use x=\"1015.488281\" xlink:href=\"#DejaVuSans-111\"/>\n     <use x=\"1076.669922\" xlink:href=\"#DejaVuSans-110\"/>\n     <use x=\"1140.048828\" xlink:href=\"#DejaVuSans-32\"/>\n     <use x=\"1171.835938\" xlink:href=\"#DejaVuSans-97\"/>\n     <use x=\"1233.115234\" xlink:href=\"#DejaVuSans-99\"/>\n     <use x=\"1288.095703\" xlink:href=\"#DejaVuSans-99\"/>\n     <use x=\"1343.076172\" xlink:href=\"#DejaVuSans-117\"/>\n     <use x=\"1406.455078\" xlink:href=\"#DejaVuSans-114\"/>\n     <use x=\"1447.568359\" xlink:href=\"#DejaVuSans-97\"/>\n     <use x=\"1508.847656\" xlink:href=\"#DejaVuSans-114\"/>\n     <use x=\"1547.710938\" xlink:href=\"#DejaVuSans-99\"/>\n     <use x=\"1602.691406\" xlink:href=\"#DejaVuSans-121\"/>\n    </g>\n   </g>\n   <g id=\"legend_1\">\n    <g id=\"patch_7\">\n     <path d=\"M 237.064063 234.758125 \nL 370.628125 234.758125 \nQ 372.628125 234.758125 372.628125 232.758125 \nL 372.628125 204.401875 \nQ 372.628125 202.401875 370.628125 202.401875 \nL 237.064063 202.401875 \nQ 235.064063 202.401875 235.064063 204.401875 \nL 235.064063 232.758125 \nQ 235.064063 234.758125 237.064063 234.758125 \nz\n\" style=\"fill:#ffffff;opacity:0.8;stroke:#cccccc;stroke-linejoin:miter;\"/>\n    </g>\n    <g id=\"line2d_16\">\n     <path d=\"M 239.064063 210.500313 \nL 259.064062 210.500313 \n\" style=\"fill:none;stroke:#0000ff;stroke-linecap:square;stroke-width:1.5;\"/>\n    </g>\n    <g id=\"line2d_17\"/>\n    <g id=\"text_15\">\n     <!-- Training accurarcy -->\n     <g transform=\"translate(267.064062 214.000313)scale(0.1 -0.1)\">\n      <use xlink:href=\"#DejaVuSans-84\"/>\n      <use x=\"46.333984\" xlink:href=\"#DejaVuSans-114\"/>\n      <use x=\"87.447266\" xlink:href=\"#DejaVuSans-97\"/>\n      <use x=\"148.726562\" xlink:href=\"#DejaVuSans-105\"/>\n      <use x=\"176.509766\" xlink:href=\"#DejaVuSans-110\"/>\n      <use x=\"239.888672\" xlink:href=\"#DejaVuSans-105\"/>\n      <use x=\"267.671875\" xlink:href=\"#DejaVuSans-110\"/>\n      <use x=\"331.050781\" xlink:href=\"#DejaVuSans-103\"/>\n      <use x=\"394.527344\" xlink:href=\"#DejaVuSans-32\"/>\n      <use x=\"426.314453\" xlink:href=\"#DejaVuSans-97\"/>\n      <use x=\"487.59375\" xlink:href=\"#DejaVuSans-99\"/>\n      <use x=\"542.574219\" xlink:href=\"#DejaVuSans-99\"/>\n      <use x=\"597.554688\" xlink:href=\"#DejaVuSans-117\"/>\n      <use x=\"660.933594\" xlink:href=\"#DejaVuSans-114\"/>\n      <use x=\"702.046875\" xlink:href=\"#DejaVuSans-97\"/>\n      <use x=\"763.326172\" xlink:href=\"#DejaVuSans-114\"/>\n      <use x=\"802.189453\" xlink:href=\"#DejaVuSans-99\"/>\n      <use x=\"857.169922\" xlink:href=\"#DejaVuSans-121\"/>\n     </g>\n    </g>\n    <g id=\"line2d_18\">\n     <path d=\"M 239.064063 225.178438 \nL 259.064062 225.178438 \n\" style=\"fill:none;stroke:#ff0000;stroke-linecap:square;stroke-width:1.5;\"/>\n    </g>\n    <g id=\"line2d_19\"/>\n    <g id=\"text_16\">\n     <!-- Validation accurarcy -->\n     <g transform=\"translate(267.064062 228.678438)scale(0.1 -0.1)\">\n      <use xlink:href=\"#DejaVuSans-86\"/>\n      <use x=\"60.658203\" xlink:href=\"#DejaVuSans-97\"/>\n      <use x=\"121.9375\" xlink:href=\"#DejaVuSans-108\"/>\n      <use x=\"149.720703\" xlink:href=\"#DejaVuSans-105\"/>\n      <use x=\"177.503906\" xlink:href=\"#DejaVuSans-100\"/>\n      <use x=\"240.980469\" xlink:href=\"#DejaVuSans-97\"/>\n      <use x=\"302.259766\" xlink:href=\"#DejaVuSans-116\"/>\n      <use x=\"341.46875\" xlink:href=\"#DejaVuSans-105\"/>\n      <use x=\"369.251953\" xlink:href=\"#DejaVuSans-111\"/>\n      <use x=\"430.433594\" xlink:href=\"#DejaVuSans-110\"/>\n      <use x=\"493.8125\" xlink:href=\"#DejaVuSans-32\"/>\n      <use x=\"525.599609\" xlink:href=\"#DejaVuSans-97\"/>\n      <use x=\"586.878906\" xlink:href=\"#DejaVuSans-99\"/>\n      <use x=\"641.859375\" xlink:href=\"#DejaVuSans-99\"/>\n      <use x=\"696.839844\" xlink:href=\"#DejaVuSans-117\"/>\n      <use x=\"760.21875\" xlink:href=\"#DejaVuSans-114\"/>\n      <use x=\"801.332031\" xlink:href=\"#DejaVuSans-97\"/>\n      <use x=\"862.611328\" xlink:href=\"#DejaVuSans-114\"/>\n      <use x=\"901.474609\" xlink:href=\"#DejaVuSans-99\"/>\n      <use x=\"956.455078\" xlink:href=\"#DejaVuSans-121\"/>\n     </g>\n    </g>\n   </g>\n  </g>\n </g>\n <defs>\n  <clipPath id=\"p05674cef46\">\n   <rect height=\"217.44\" width=\"334.8\" x=\"42.828125\" y=\"22.318125\"/>\n  </clipPath>\n </defs>\n</svg>\n",
      "image/png": "[encoded data removed]"
     },
     "metadata": {
      "needs_background": "light"
     }
    },
    {
     "output_type": "display_data",
     "data": {
      "text/plain": "<Figure size 432x288 with 1 Axes>",
      "image/svg+xml": "<?xml version=\"1.0\" encoding=\"utf-8\" standalone=\"no\"?>\n<!DOCTYPE svg PUBLIC \"-//W3C//DTD SVG 1.1//EN\"\n  \"http://www.w3.org/Graphics/SVG/1.1/DTD/svg11.dtd\">\n<!-- Created with matplotlib (https://matplotlib.org/) -->\n<svg height=\"263.63625pt\" version=\"1.1\" viewBox=\"0 0 378.465625 263.63625\" width=\"378.465625pt\" xmlns=\"http://www.w3.org/2000/svg\" xmlns:xlink=\"http://www.w3.org/1999/xlink\">\n <defs>\n  <style type=\"text/css\">\n*{stroke-linecap:butt;stroke-linejoin:round;}\n  </style>\n </defs>\n <g id=\"figure_1\">\n  <g id=\"patch_1\">\n   <path d=\"M 0 263.63625 \nL 378.465625 263.63625 \nL 378.465625 0 \nL 0 0 \nz\n\" style=\"fill:none;\"/>\n  </g>\n  <g id=\"axes_1\">\n   <g id=\"patch_2\">\n    <path d=\"M 36.465625 239.758125 \nL 371.265625 239.758125 \nL 371.265625 22.318125 \nL 36.465625 22.318125 \nz\n\" style=\"fill:#ffffff;\"/>\n   </g>\n   <g id=\"matplotlib.axis_1\">\n    <g id=\"xtick_1\">\n     <g id=\"line2d_1\">\n      <defs>\n       <path d=\"M 0 0 \nL 0 3.5 \n\" id=\"m8485abea8e\" style=\"stroke:#000000;stroke-width:0.8;\"/>\n      </defs>\n      <g>\n       <use style=\"stroke:#000000;stroke-width:0.8;\" x=\"48.609427\" xlink:href=\"#m8485abea8e\" y=\"239.758125\"/>\n      </g>\n     </g>\n     <g id=\"text_1\">\n      <!-- 0 -->\n      <defs>\n       <path d=\"M 31.78125 66.40625 \nQ 24.171875 66.40625 20.328125 58.90625 \nQ 16.5 51.421875 16.5 36.375 \nQ 16.5 21.390625 20.328125 13.890625 \nQ 24.171875 6.390625 31.78125 6.390625 \nQ 39.453125 6.390625 43.28125 13.890625 \nQ 47.125 21.390625 47.125 36.375 \nQ 47.125 51.421875 43.28125 58.90625 \nQ 39.453125 66.40625 31.78125 66.40625 \nz\nM 31.78125 74.21875 \nQ 44.046875 74.21875 50.515625 64.515625 \nQ 56.984375 54.828125 56.984375 36.375 \nQ 56.984375 17.96875 50.515625 8.265625 \nQ 44.046875 -1.421875 31.78125 -1.421875 \nQ 19.53125 -1.421875 13.0625 8.265625 \nQ 6.59375 17.96875 6.59375 36.375 \nQ 6.59375 54.828125 13.0625 64.515625 \nQ 19.53125 74.21875 31.78125 74.21875 \nz\n\" id=\"DejaVuSans-48\"/>\n      </defs>\n      <g transform=\"translate(45.428177 254.356563)scale(0.1 -0.1)\">\n       <use xlink:href=\"#DejaVuSans-48\"/>\n      </g>\n     </g>\n    </g>\n    <g id=\"xtick_2\">\n     <g id=\"line2d_2\">\n      <g>\n       <use style=\"stroke:#000000;stroke-width:0.8;\" x=\"110.09703\" xlink:href=\"#m8485abea8e\" y=\"239.758125\"/>\n      </g>\n     </g>\n     <g id=\"text_2\">\n      <!-- 20 -->\n      <defs>\n       <path d=\"M 19.1875 8.296875 \nL 53.609375 8.296875 \nL 53.609375 0 \nL 7.328125 0 \nL 7.328125 8.296875 \nQ 12.9375 14.109375 22.625 23.890625 \nQ 32.328125 33.6875 34.8125 36.53125 \nQ 39.546875 41.84375 41.421875 45.53125 \nQ 43.3125 49.21875 43.3125 52.78125 \nQ 43.3125 58.59375 39.234375 62.25 \nQ 35.15625 65.921875 28.609375 65.921875 \nQ 23.96875 65.921875 18.8125 64.3125 \nQ 13.671875 62.703125 7.8125 59.421875 \nL 7.8125 69.390625 \nQ 13.765625 71.78125 18.9375 73 \nQ 24.125 74.21875 28.421875 74.21875 \nQ 39.75 74.21875 46.484375 68.546875 \nQ 53.21875 62.890625 53.21875 53.421875 \nQ 53.21875 48.921875 51.53125 44.890625 \nQ 49.859375 40.875 45.40625 35.40625 \nQ 44.1875 33.984375 37.640625 27.21875 \nQ 31.109375 20.453125 19.1875 8.296875 \nz\n\" id=\"DejaVuSans-50\"/>\n      </defs>\n      <g transform=\"translate(103.73453 254.356563)scale(0.1 -0.1)\">\n       <use xlink:href=\"#DejaVuSans-50\"/>\n       <use x=\"63.623047\" xlink:href=\"#DejaVuSans-48\"/>\n      </g>\n     </g>\n    </g>\n    <g id=\"xtick_3\">\n     <g id=\"line2d_3\">\n      <g>\n       <use style=\"stroke:#000000;stroke-width:0.8;\" x=\"171.584633\" xlink:href=\"#m8485abea8e\" y=\"239.758125\"/>\n      </g>\n     </g>\n     <g id=\"text_3\">\n      <!-- 40 -->\n      <defs>\n       <path d=\"M 37.796875 64.3125 \nL 12.890625 25.390625 \nL 37.796875 25.390625 \nz\nM 35.203125 72.90625 \nL 47.609375 72.90625 \nL 47.609375 25.390625 \nL 58.015625 25.390625 \nL 58.015625 17.1875 \nL 47.609375 17.1875 \nL 47.609375 0 \nL 37.796875 0 \nL 37.796875 17.1875 \nL 4.890625 17.1875 \nL 4.890625 26.703125 \nz\n\" id=\"DejaVuSans-52\"/>\n      </defs>\n      <g transform=\"translate(165.222133 254.356563)scale(0.1 -0.1)\">\n       <use xlink:href=\"#DejaVuSans-52\"/>\n       <use x=\"63.623047\" xlink:href=\"#DejaVuSans-48\"/>\n      </g>\n     </g>\n    </g>\n    <g id=\"xtick_4\">\n     <g id=\"line2d_4\">\n      <g>\n       <use style=\"stroke:#000000;stroke-width:0.8;\" x=\"233.072237\" xlink:href=\"#m8485abea8e\" y=\"239.758125\"/>\n      </g>\n     </g>\n     <g id=\"text_4\">\n      <!-- 60 -->\n      <defs>\n       <path d=\"M 33.015625 40.375 \nQ 26.375 40.375 22.484375 35.828125 \nQ 18.609375 31.296875 18.609375 23.390625 \nQ 18.609375 15.53125 22.484375 10.953125 \nQ 26.375 6.390625 33.015625 6.390625 \nQ 39.65625 6.390625 43.53125 10.953125 \nQ 47.40625 15.53125 47.40625 23.390625 \nQ 47.40625 31.296875 43.53125 35.828125 \nQ 39.65625 40.375 33.015625 40.375 \nz\nM 52.59375 71.296875 \nL 52.59375 62.3125 \nQ 48.875 64.0625 45.09375 64.984375 \nQ 41.3125 65.921875 37.59375 65.921875 \nQ 27.828125 65.921875 22.671875 59.328125 \nQ 17.53125 52.734375 16.796875 39.40625 \nQ 19.671875 43.65625 24.015625 45.921875 \nQ 28.375 48.1875 33.59375 48.1875 \nQ 44.578125 48.1875 50.953125 41.515625 \nQ 57.328125 34.859375 57.328125 23.390625 \nQ 57.328125 12.15625 50.6875 5.359375 \nQ 44.046875 -1.421875 33.015625 -1.421875 \nQ 20.359375 -1.421875 13.671875 8.265625 \nQ 6.984375 17.96875 6.984375 36.375 \nQ 6.984375 53.65625 15.1875 63.9375 \nQ 23.390625 74.21875 37.203125 74.21875 \nQ 40.921875 74.21875 44.703125 73.484375 \nQ 48.484375 72.75 52.59375 71.296875 \nz\n\" id=\"DejaVuSans-54\"/>\n      </defs>\n      <g transform=\"translate(226.709737 254.356563)scale(0.1 -0.1)\">\n       <use xlink:href=\"#DejaVuSans-54\"/>\n       <use x=\"63.623047\" xlink:href=\"#DejaVuSans-48\"/>\n      </g>\n     </g>\n    </g>\n    <g id=\"xtick_5\">\n     <g id=\"line2d_5\">\n      <g>\n       <use style=\"stroke:#000000;stroke-width:0.8;\" x=\"294.55984\" xlink:href=\"#m8485abea8e\" y=\"239.758125\"/>\n      </g>\n     </g>\n     <g id=\"text_5\">\n      <!-- 80 -->\n      <defs>\n       <path d=\"M 31.78125 34.625 \nQ 24.75 34.625 20.71875 30.859375 \nQ 16.703125 27.09375 16.703125 20.515625 \nQ 16.703125 13.921875 20.71875 10.15625 \nQ 24.75 6.390625 31.78125 6.390625 \nQ 38.8125 6.390625 42.859375 10.171875 \nQ 46.921875 13.96875 46.921875 20.515625 \nQ 46.921875 27.09375 42.890625 30.859375 \nQ 38.875 34.625 31.78125 34.625 \nz\nM 21.921875 38.8125 \nQ 15.578125 40.375 12.03125 44.71875 \nQ 8.5 49.078125 8.5 55.328125 \nQ 8.5 64.0625 14.71875 69.140625 \nQ 20.953125 74.21875 31.78125 74.21875 \nQ 42.671875 74.21875 48.875 69.140625 \nQ 55.078125 64.0625 55.078125 55.328125 \nQ 55.078125 49.078125 51.53125 44.71875 \nQ 48 40.375 41.703125 38.8125 \nQ 48.828125 37.15625 52.796875 32.3125 \nQ 56.78125 27.484375 56.78125 20.515625 \nQ 56.78125 9.90625 50.3125 4.234375 \nQ 43.84375 -1.421875 31.78125 -1.421875 \nQ 19.734375 -1.421875 13.25 4.234375 \nQ 6.78125 9.90625 6.78125 20.515625 \nQ 6.78125 27.484375 10.78125 32.3125 \nQ 14.796875 37.15625 21.921875 38.8125 \nz\nM 18.3125 54.390625 \nQ 18.3125 48.734375 21.84375 45.5625 \nQ 25.390625 42.390625 31.78125 42.390625 \nQ 38.140625 42.390625 41.71875 45.5625 \nQ 45.3125 48.734375 45.3125 54.390625 \nQ 45.3125 60.0625 41.71875 63.234375 \nQ 38.140625 66.40625 31.78125 66.40625 \nQ 25.390625 66.40625 21.84375 63.234375 \nQ 18.3125 60.0625 18.3125 54.390625 \nz\n\" id=\"DejaVuSans-56\"/>\n      </defs>\n      <g transform=\"translate(288.19734 254.356563)scale(0.1 -0.1)\">\n       <use xlink:href=\"#DejaVuSans-56\"/>\n       <use x=\"63.623047\" xlink:href=\"#DejaVuSans-48\"/>\n      </g>\n     </g>\n    </g>\n    <g id=\"xtick_6\">\n     <g id=\"line2d_6\">\n      <g>\n       <use style=\"stroke:#000000;stroke-width:0.8;\" x=\"356.047443\" xlink:href=\"#m8485abea8e\" y=\"239.758125\"/>\n      </g>\n     </g>\n     <g id=\"text_6\">\n      <!-- 100 -->\n      <defs>\n       <path d=\"M 12.40625 8.296875 \nL 28.515625 8.296875 \nL 28.515625 63.921875 \nL 10.984375 60.40625 \nL 10.984375 69.390625 \nL 28.421875 72.90625 \nL 38.28125 72.90625 \nL 38.28125 8.296875 \nL 54.390625 8.296875 \nL 54.390625 0 \nL 12.40625 0 \nz\n\" id=\"DejaVuSans-49\"/>\n      </defs>\n      <g transform=\"translate(346.503693 254.356563)scale(0.1 -0.1)\">\n       <use xlink:href=\"#DejaVuSans-49\"/>\n       <use x=\"63.623047\" xlink:href=\"#DejaVuSans-48\"/>\n       <use x=\"127.246094\" xlink:href=\"#DejaVuSans-48\"/>\n      </g>\n     </g>\n    </g>\n   </g>\n   <g id=\"matplotlib.axis_2\">\n    <g id=\"ytick_1\">\n     <g id=\"line2d_7\">\n      <defs>\n       <path d=\"M 0 0 \nL -3.5 0 \n\" id=\"m5a98cf2c84\" style=\"stroke:#000000;stroke-width:0.8;\"/>\n      </defs>\n      <g>\n       <use style=\"stroke:#000000;stroke-width:0.8;\" x=\"36.465625\" xlink:href=\"#m5a98cf2c84\" y=\"234.36359\"/>\n      </g>\n     </g>\n     <g id=\"text_7\">\n      <!-- 0.02 -->\n      <defs>\n       <path d=\"M 10.6875 12.40625 \nL 21 12.40625 \nL 21 0 \nL 10.6875 0 \nz\n\" id=\"DejaVuSans-46\"/>\n      </defs>\n      <g transform=\"translate(7.2 238.162808)scale(0.1 -0.1)\">\n       <use xlink:href=\"#DejaVuSans-48\"/>\n       <use x=\"63.623047\" xlink:href=\"#DejaVuSans-46\"/>\n       <use x=\"95.410156\" xlink:href=\"#DejaVuSans-48\"/>\n       <use x=\"159.033203\" xlink:href=\"#DejaVuSans-50\"/>\n      </g>\n     </g>\n    </g>\n    <g id=\"ytick_2\">\n     <g id=\"line2d_8\">\n      <g>\n       <use style=\"stroke:#000000;stroke-width:0.8;\" x=\"36.465625\" xlink:href=\"#m5a98cf2c84\" y=\"207.432867\"/>\n      </g>\n     </g>\n     <g id=\"text_8\">\n      <!-- 0.04 -->\n      <g transform=\"translate(7.2 211.232086)scale(0.1 -0.1)\">\n       <use xlink:href=\"#DejaVuSans-48\"/>\n       <use x=\"63.623047\" xlink:href=\"#DejaVuSans-46\"/>\n       <use x=\"95.410156\" xlink:href=\"#DejaVuSans-48\"/>\n       <use x=\"159.033203\" xlink:href=\"#DejaVuSans-52\"/>\n      </g>\n     </g>\n    </g>\n    <g id=\"ytick_3\">\n     <g id=\"line2d_9\">\n      <g>\n       <use style=\"stroke:#000000;stroke-width:0.8;\" x=\"36.465625\" xlink:href=\"#m5a98cf2c84\" y=\"180.502145\"/>\n      </g>\n     </g>\n     <g id=\"text_9\">\n      <!-- 0.06 -->\n      <g transform=\"translate(7.2 184.301363)scale(0.1 -0.1)\">\n       <use xlink:href=\"#DejaVuSans-48\"/>\n       <use x=\"63.623047\" xlink:href=\"#DejaVuSans-46\"/>\n       <use x=\"95.410156\" xlink:href=\"#DejaVuSans-48\"/>\n       <use x=\"159.033203\" xlink:href=\"#DejaVuSans-54\"/>\n      </g>\n     </g>\n    </g>\n    <g id=\"ytick_4\">\n     <g id=\"line2d_10\">\n      <g>\n       <use style=\"stroke:#000000;stroke-width:0.8;\" x=\"36.465625\" xlink:href=\"#m5a98cf2c84\" y=\"153.571422\"/>\n      </g>\n     </g>\n     <g id=\"text_10\">\n      <!-- 0.08 -->\n      <g transform=\"translate(7.2 157.370641)scale(0.1 -0.1)\">\n       <use xlink:href=\"#DejaVuSans-48\"/>\n       <use x=\"63.623047\" xlink:href=\"#DejaVuSans-46\"/>\n       <use x=\"95.410156\" xlink:href=\"#DejaVuSans-48\"/>\n       <use x=\"159.033203\" xlink:href=\"#DejaVuSans-56\"/>\n      </g>\n     </g>\n    </g>\n    <g id=\"ytick_5\">\n     <g id=\"line2d_11\">\n      <g>\n       <use style=\"stroke:#000000;stroke-width:0.8;\" x=\"36.465625\" xlink:href=\"#m5a98cf2c84\" y=\"126.6407\"/>\n      </g>\n     </g>\n     <g id=\"text_11\">\n      <!-- 0.10 -->\n      <g transform=\"translate(7.2 130.439918)scale(0.1 -0.1)\">\n       <use xlink:href=\"#DejaVuSans-48\"/>\n       <use x=\"63.623047\" xlink:href=\"#DejaVuSans-46\"/>\n       <use x=\"95.410156\" xlink:href=\"#DejaVuSans-49\"/>\n       <use x=\"159.033203\" xlink:href=\"#DejaVuSans-48\"/>\n      </g>\n     </g>\n    </g>\n    <g id=\"ytick_6\">\n     <g id=\"line2d_12\">\n      <g>\n       <use style=\"stroke:#000000;stroke-width:0.8;\" x=\"36.465625\" xlink:href=\"#m5a98cf2c84\" y=\"99.709977\"/>\n      </g>\n     </g>\n     <g id=\"text_12\">\n      <!-- 0.12 -->\n      <g transform=\"translate(7.2 103.509196)scale(0.1 -0.1)\">\n       <use xlink:href=\"#DejaVuSans-48\"/>\n       <use x=\"63.623047\" xlink:href=\"#DejaVuSans-46\"/>\n       <use x=\"95.410156\" xlink:href=\"#DejaVuSans-49\"/>\n       <use x=\"159.033203\" xlink:href=\"#DejaVuSans-50\"/>\n      </g>\n     </g>\n    </g>\n    <g id=\"ytick_7\">\n     <g id=\"line2d_13\">\n      <g>\n       <use style=\"stroke:#000000;stroke-width:0.8;\" x=\"36.465625\" xlink:href=\"#m5a98cf2c84\" y=\"72.779255\"/>\n      </g>\n     </g>\n     <g id=\"text_13\">\n      <!-- 0.14 -->\n      <g transform=\"translate(7.2 76.578473)scale(0.1 -0.1)\">\n       <use xlink:href=\"#DejaVuSans-48\"/>\n       <use x=\"63.623047\" xlink:href=\"#DejaVuSans-46\"/>\n       <use x=\"95.410156\" xlink:href=\"#DejaVuSans-49\"/>\n       <use x=\"159.033203\" xlink:href=\"#DejaVuSans-52\"/>\n      </g>\n     </g>\n    </g>\n    <g id=\"ytick_8\">\n     <g id=\"line2d_14\">\n      <g>\n       <use style=\"stroke:#000000;stroke-width:0.8;\" x=\"36.465625\" xlink:href=\"#m5a98cf2c84\" y=\"45.848532\"/>\n      </g>\n     </g>\n     <g id=\"text_14\">\n      <!-- 0.16 -->\n      <g transform=\"translate(7.2 49.647751)scale(0.1 -0.1)\">\n       <use xlink:href=\"#DejaVuSans-48\"/>\n       <use x=\"63.623047\" xlink:href=\"#DejaVuSans-46\"/>\n       <use x=\"95.410156\" xlink:href=\"#DejaVuSans-49\"/>\n       <use x=\"159.033203\" xlink:href=\"#DejaVuSans-54\"/>\n      </g>\n     </g>\n    </g>\n   </g>\n   <g id=\"line2d_15\">\n    <path clip-path=\"url(#p020b7d6f98)\" d=\"M 51.683807 79.37647 \nL 54.758187 123.464195 \nL 57.832567 141.298717 \nL 60.906947 149.405288 \nL 63.981327 162.786003 \nL 67.055708 163.031728 \nL 70.130088 148.063334 \nL 73.204468 159.672173 \nL 76.278848 162.868289 \nL 79.353228 156.146099 \nL 82.427608 173.442569 \nL 85.501989 168.326247 \nL 88.576369 187.704075 \nL 91.650749 182.95756 \nL 94.725129 179.210761 \nL 97.799509 187.443672 \nL 100.873889 180.203705 \nL 103.94827 179.130752 \nL 107.02265 189.766972 \nL 110.09703 176.759627 \nL 113.17141 191.890481 \nL 116.24579 192.598157 \nL 119.32017 189.598688 \nL 122.394551 195.98484 \nL 125.468931 194.67199 \nL 128.543311 190.013847 \nL 131.617691 198.973088 \nL 134.692071 187.921147 \nL 137.766451 191.46516 \nL 140.840832 191.773172 \nL 143.915212 193.120192 \nL 146.989592 198.639318 \nL 150.063972 193.84703 \nL 153.138352 201.63191 \nL 156.212732 200.979147 \nL 159.287113 190.122443 \nL 162.361493 211.355536 \nL 165.435873 208.837701 \nL 168.510253 207.798081 \nL 171.584633 201.599606 \nL 174.659013 205.080549 \nL 177.733394 201.500164 \nL 180.807774 200.611281 \nL 183.882154 210.974648 \nL 186.956534 194.262028 \nL 190.030914 215.745858 \nL 193.105294 207.959739 \nL 196.179675 202.978951 \nL 199.254055 206.748618 \nL 202.328435 207.04261 \nL 205.402815 207.053841 \nL 208.477195 201.616836 \nL 211.551575 214.505724 \nL 214.625956 204.541343 \nL 217.700336 212.117749 \nL 220.774716 207.607198 \nL 223.849096 207.386799 \nL 226.923476 203.220166 \nL 229.997856 206.335486 \nL 233.072237 215.05296 \nL 236.146617 209.169861 \nL 239.220997 205.789218 \nL 242.295377 219.739822 \nL 245.369757 220.509842 \nL 248.444137 211.83708 \nL 251.518518 208.95014 \nL 254.592898 209.882232 \nL 257.667278 214.392693 \nL 260.741658 214.964123 \nL 263.816038 213.143604 \nL 266.890418 207.070721 \nL 269.964799 198.942033 \nL 273.039179 217.889086 \nL 276.113559 215.613635 \nL 279.187939 216.062814 \nL 282.262319 204.327812 \nL 285.336699 217.957201 \nL 288.41108 227.753001 \nL 291.48546 222.285074 \nL 294.55984 216.516292 \nL 297.63422 200.003017 \nL 300.7086 223.773891 \nL 303.78298 215.630545 \nL 306.857361 215.526939 \nL 309.931741 216.627096 \nL 313.006121 218.393699 \nL 316.080501 219.260275 \nL 319.154881 224.746544 \nL 322.229261 211.533828 \nL 325.303642 220.066311 \nL 328.378022 215.480584 \nL 331.452402 214.56165 \nL 334.526782 222.119207 \nL 337.601162 218.206358 \nL 340.675542 219.961866 \nL 343.749923 229.874489 \nL 346.824303 207.656161 \nL 349.898683 210.276027 \nL 352.973063 217.123011 \nL 356.047443 220.370378 \n\" style=\"fill:none;stroke:#0000ff;stroke-linecap:square;stroke-width:1.5;\"/>\n   </g>\n   <g id=\"line2d_16\">\n    <path clip-path=\"url(#p020b7d6f98)\" d=\"M 51.683807 216.07234 \nL 54.758187 214.274104 \nL 57.832567 205.280957 \nL 60.906947 203.63063 \nL 63.981327 203.752189 \nL 67.055708 208.677342 \nL 70.130088 205.64768 \nL 73.204468 175.072144 \nL 76.278848 189.02625 \nL 79.353228 203.165369 \nL 82.427608 206.893267 \nL 85.501989 216.262169 \nL 88.576369 205.079646 \nL 91.650749 183.250378 \nL 94.725129 202.652915 \nL 97.799509 197.961489 \nL 100.873889 169.014054 \nL 103.94827 183.063257 \nL 107.02265 187.572629 \nL 110.09703 191.085064 \nL 113.17141 193.479209 \nL 116.24579 192.425719 \nL 119.32017 179.157689 \nL 122.394551 187.511376 \nL 125.468931 190.559031 \nL 128.543311 182.521142 \nL 131.617691 185.998614 \nL 134.692071 185.521073 \nL 137.766451 161.093895 \nL 140.840832 170.798299 \nL 143.915212 182.480285 \nL 146.989592 158.666016 \nL 150.063972 165.031853 \nL 153.138352 162.603472 \nL 156.212732 143.756352 \nL 159.287113 132.744677 \nL 162.361493 157.516766 \nL 165.435873 127.554496 \nL 168.510253 150.193701 \nL 171.584633 144.770736 \nL 174.659013 150.349926 \nL 177.733394 98.082352 \nL 180.807774 141.072866 \nL 183.882154 139.858916 \nL 186.956534 139.63155 \nL 190.030914 124.653054 \nL 193.105294 109.355153 \nL 196.179675 138.546267 \nL 199.254055 112.535558 \nL 202.328435 134.991189 \nL 205.402815 140.315083 \nL 208.477195 145.440314 \nL 211.551575 140.353628 \nL 214.625956 124.906905 \nL 217.700336 141.252718 \nL 220.774716 122.414567 \nL 223.849096 77.626826 \nL 226.923476 119.648704 \nL 229.997856 83.285784 \nL 233.072237 127.121925 \nL 236.146617 116.154654 \nL 239.220997 129.909238 \nL 242.295377 109.973174 \nL 245.369757 72.420051 \nL 248.444137 98.041109 \nL 251.518518 119.552001 \nL 254.592898 116.96305 \nL 257.667278 111.269109 \nL 260.741658 104.807402 \nL 263.816038 99.513314 \nL 266.890418 119.952347 \nL 269.964799 121.127672 \nL 273.039179 89.596232 \nL 276.113559 81.520811 \nL 279.187939 90.120569 \nL 282.262319 101.293507 \nL 285.336699 106.854599 \nL 288.41108 96.170473 \nL 291.48546 89.033611 \nL 294.55984 82.566877 \nL 297.63422 78.767759 \nL 300.7086 67.953352 \nL 303.78298 68.869999 \nL 306.857361 49.973329 \nL 309.931741 67.43369 \nL 313.006121 32.201761 \nL 316.080501 68.72495 \nL 319.154881 56.049418 \nL 322.229261 68.319397 \nL 325.303642 63.405872 \nL 328.378022 62.910347 \nL 331.452402 70.523091 \nL 334.526782 60.36254 \nL 337.601162 55.520526 \nL 340.675542 43.621568 \nL 343.749923 53.227243 \nL 346.824303 49.581682 \nL 349.898683 82.010516 \nL 352.973063 73.050111 \nL 356.047443 62.809541 \n\" style=\"fill:none;stroke:#ff0000;stroke-linecap:square;stroke-width:1.5;\"/>\n   </g>\n   <g id=\"patch_3\">\n    <path d=\"M 36.465625 239.758125 \nL 36.465625 22.318125 \n\" style=\"fill:none;stroke:#000000;stroke-linecap:square;stroke-linejoin:miter;stroke-width:0.8;\"/>\n   </g>\n   <g id=\"patch_4\">\n    <path d=\"M 371.265625 239.758125 \nL 371.265625 22.318125 \n\" style=\"fill:none;stroke:#000000;stroke-linecap:square;stroke-linejoin:miter;stroke-width:0.8;\"/>\n   </g>\n   <g id=\"patch_5\">\n    <path d=\"M 36.465625 239.758125 \nL 371.265625 239.758125 \n\" style=\"fill:none;stroke:#000000;stroke-linecap:square;stroke-linejoin:miter;stroke-width:0.8;\"/>\n   </g>\n   <g id=\"patch_6\">\n    <path d=\"M 36.465625 22.318125 \nL 371.265625 22.318125 \n\" style=\"fill:none;stroke:#000000;stroke-linecap:square;stroke-linejoin:miter;stroke-width:0.8;\"/>\n   </g>\n   <g id=\"text_15\">\n    <!-- Training and Validation loss -->\n    <defs>\n     <path d=\"M -0.296875 72.90625 \nL 61.375 72.90625 \nL 61.375 64.59375 \nL 35.5 64.59375 \nL 35.5 0 \nL 25.59375 0 \nL 25.59375 64.59375 \nL -0.296875 64.59375 \nz\n\" id=\"DejaVuSans-84\"/>\n     <path d=\"M 41.109375 46.296875 \nQ 39.59375 47.171875 37.8125 47.578125 \nQ 36.03125 48 33.890625 48 \nQ 26.265625 48 22.1875 43.046875 \nQ 18.109375 38.09375 18.109375 28.8125 \nL 18.109375 0 \nL 9.078125 0 \nL 9.078125 54.6875 \nL 18.109375 54.6875 \nL 18.109375 46.1875 \nQ 20.953125 51.171875 25.484375 53.578125 \nQ 30.03125 56 36.53125 56 \nQ 37.453125 56 38.578125 55.875 \nQ 39.703125 55.765625 41.0625 55.515625 \nz\n\" id=\"DejaVuSans-114\"/>\n     <path d=\"M 34.28125 27.484375 \nQ 23.390625 27.484375 19.1875 25 \nQ 14.984375 22.515625 14.984375 16.5 \nQ 14.984375 11.71875 18.140625 8.90625 \nQ 21.296875 6.109375 26.703125 6.109375 \nQ 34.1875 6.109375 38.703125 11.40625 \nQ 43.21875 16.703125 43.21875 25.484375 \nL 43.21875 27.484375 \nz\nM 52.203125 31.203125 \nL 52.203125 0 \nL 43.21875 0 \nL 43.21875 8.296875 \nQ 40.140625 3.328125 35.546875 0.953125 \nQ 30.953125 -1.421875 24.3125 -1.421875 \nQ 15.921875 -1.421875 10.953125 3.296875 \nQ 6 8.015625 6 15.921875 \nQ 6 25.140625 12.171875 29.828125 \nQ 18.359375 34.515625 30.609375 34.515625 \nL 43.21875 34.515625 \nL 43.21875 35.40625 \nQ 43.21875 41.609375 39.140625 45 \nQ 35.0625 48.390625 27.6875 48.390625 \nQ 23 48.390625 18.546875 47.265625 \nQ 14.109375 46.140625 10.015625 43.890625 \nL 10.015625 52.203125 \nQ 14.9375 54.109375 19.578125 55.046875 \nQ 24.21875 56 28.609375 56 \nQ 40.484375 56 46.34375 49.84375 \nQ 52.203125 43.703125 52.203125 31.203125 \nz\n\" id=\"DejaVuSans-97\"/>\n     <path d=\"M 9.421875 54.6875 \nL 18.40625 54.6875 \nL 18.40625 0 \nL 9.421875 0 \nz\nM 9.421875 75.984375 \nL 18.40625 75.984375 \nL 18.40625 64.59375 \nL 9.421875 64.59375 \nz\n\" id=\"DejaVuSans-105\"/>\n     <path d=\"M 54.890625 33.015625 \nL 54.890625 0 \nL 45.90625 0 \nL 45.90625 32.71875 \nQ 45.90625 40.484375 42.875 44.328125 \nQ 39.84375 48.1875 33.796875 48.1875 \nQ 26.515625 48.1875 22.3125 43.546875 \nQ 18.109375 38.921875 18.109375 30.90625 \nL 18.109375 0 \nL 9.078125 0 \nL 9.078125 54.6875 \nL 18.109375 54.6875 \nL 18.109375 46.1875 \nQ 21.34375 51.125 25.703125 53.5625 \nQ 30.078125 56 35.796875 56 \nQ 45.21875 56 50.046875 50.171875 \nQ 54.890625 44.34375 54.890625 33.015625 \nz\n\" id=\"DejaVuSans-110\"/>\n     <path d=\"M 45.40625 27.984375 \nQ 45.40625 37.75 41.375 43.109375 \nQ 37.359375 48.484375 30.078125 48.484375 \nQ 22.859375 48.484375 18.828125 43.109375 \nQ 14.796875 37.75 14.796875 27.984375 \nQ 14.796875 18.265625 18.828125 12.890625 \nQ 22.859375 7.515625 30.078125 7.515625 \nQ 37.359375 7.515625 41.375 12.890625 \nQ 45.40625 18.265625 45.40625 27.984375 \nz\nM 54.390625 6.78125 \nQ 54.390625 -7.171875 48.1875 -13.984375 \nQ 42 -20.796875 29.203125 -20.796875 \nQ 24.46875 -20.796875 20.265625 -20.09375 \nQ 16.0625 -19.390625 12.109375 -17.921875 \nL 12.109375 -9.1875 \nQ 16.0625 -11.328125 19.921875 -12.34375 \nQ 23.78125 -13.375 27.78125 -13.375 \nQ 36.625 -13.375 41.015625 -8.765625 \nQ 45.40625 -4.15625 45.40625 5.171875 \nL 45.40625 9.625 \nQ 42.625 4.78125 38.28125 2.390625 \nQ 33.9375 0 27.875 0 \nQ 17.828125 0 11.671875 7.65625 \nQ 5.515625 15.328125 5.515625 27.984375 \nQ 5.515625 40.671875 11.671875 48.328125 \nQ 17.828125 56 27.875 56 \nQ 33.9375 56 38.28125 53.609375 \nQ 42.625 51.21875 45.40625 46.390625 \nL 45.40625 54.6875 \nL 54.390625 54.6875 \nz\n\" id=\"DejaVuSans-103\"/>\n     <path id=\"DejaVuSans-32\"/>\n     <path d=\"M 45.40625 46.390625 \nL 45.40625 75.984375 \nL 54.390625 75.984375 \nL 54.390625 0 \nL 45.40625 0 \nL 45.40625 8.203125 \nQ 42.578125 3.328125 38.25 0.953125 \nQ 33.9375 -1.421875 27.875 -1.421875 \nQ 17.96875 -1.421875 11.734375 6.484375 \nQ 5.515625 14.40625 5.515625 27.296875 \nQ 5.515625 40.1875 11.734375 48.09375 \nQ 17.96875 56 27.875 56 \nQ 33.9375 56 38.25 53.625 \nQ 42.578125 51.265625 45.40625 46.390625 \nz\nM 14.796875 27.296875 \nQ 14.796875 17.390625 18.875 11.75 \nQ 22.953125 6.109375 30.078125 6.109375 \nQ 37.203125 6.109375 41.296875 11.75 \nQ 45.40625 17.390625 45.40625 27.296875 \nQ 45.40625 37.203125 41.296875 42.84375 \nQ 37.203125 48.484375 30.078125 48.484375 \nQ 22.953125 48.484375 18.875 42.84375 \nQ 14.796875 37.203125 14.796875 27.296875 \nz\n\" id=\"DejaVuSans-100\"/>\n     <path d=\"M 28.609375 0 \nL 0.78125 72.90625 \nL 11.078125 72.90625 \nL 34.1875 11.53125 \nL 57.328125 72.90625 \nL 67.578125 72.90625 \nL 39.796875 0 \nz\n\" id=\"DejaVuSans-86\"/>\n     <path d=\"M 9.421875 75.984375 \nL 18.40625 75.984375 \nL 18.40625 0 \nL 9.421875 0 \nz\n\" id=\"DejaVuSans-108\"/>\n     <path d=\"M 18.3125 70.21875 \nL 18.3125 54.6875 \nL 36.8125 54.6875 \nL 36.8125 47.703125 \nL 18.3125 47.703125 \nL 18.3125 18.015625 \nQ 18.3125 11.328125 20.140625 9.421875 \nQ 21.96875 7.515625 27.59375 7.515625 \nL 36.8125 7.515625 \nL 36.8125 0 \nL 27.59375 0 \nQ 17.1875 0 13.234375 3.875 \nQ 9.28125 7.765625 9.28125 18.015625 \nL 9.28125 47.703125 \nL 2.6875 47.703125 \nL 2.6875 54.6875 \nL 9.28125 54.6875 \nL 9.28125 70.21875 \nz\n\" id=\"DejaVuSans-116\"/>\n     <path d=\"M 30.609375 48.390625 \nQ 23.390625 48.390625 19.1875 42.75 \nQ 14.984375 37.109375 14.984375 27.296875 \nQ 14.984375 17.484375 19.15625 11.84375 \nQ 23.34375 6.203125 30.609375 6.203125 \nQ 37.796875 6.203125 41.984375 11.859375 \nQ 46.1875 17.53125 46.1875 27.296875 \nQ 46.1875 37.015625 41.984375 42.703125 \nQ 37.796875 48.390625 30.609375 48.390625 \nz\nM 30.609375 56 \nQ 42.328125 56 49.015625 48.375 \nQ 55.71875 40.765625 55.71875 27.296875 \nQ 55.71875 13.875 49.015625 6.21875 \nQ 42.328125 -1.421875 30.609375 -1.421875 \nQ 18.84375 -1.421875 12.171875 6.21875 \nQ 5.515625 13.875 5.515625 27.296875 \nQ 5.515625 40.765625 12.171875 48.375 \nQ 18.84375 56 30.609375 56 \nz\n\" id=\"DejaVuSans-111\"/>\n     <path d=\"M 44.28125 53.078125 \nL 44.28125 44.578125 \nQ 40.484375 46.53125 36.375 47.5 \nQ 32.28125 48.484375 27.875 48.484375 \nQ 21.1875 48.484375 17.84375 46.4375 \nQ 14.5 44.390625 14.5 40.28125 \nQ 14.5 37.15625 16.890625 35.375 \nQ 19.28125 33.59375 26.515625 31.984375 \nL 29.59375 31.296875 \nQ 39.15625 29.25 43.1875 25.515625 \nQ 47.21875 21.78125 47.21875 15.09375 \nQ 47.21875 7.46875 41.1875 3.015625 \nQ 35.15625 -1.421875 24.609375 -1.421875 \nQ 20.21875 -1.421875 15.453125 -0.5625 \nQ 10.6875 0.296875 5.421875 2 \nL 5.421875 11.28125 \nQ 10.40625 8.6875 15.234375 7.390625 \nQ 20.0625 6.109375 24.8125 6.109375 \nQ 31.15625 6.109375 34.5625 8.28125 \nQ 37.984375 10.453125 37.984375 14.40625 \nQ 37.984375 18.0625 35.515625 20.015625 \nQ 33.0625 21.96875 24.703125 23.78125 \nL 21.578125 24.515625 \nQ 13.234375 26.265625 9.515625 29.90625 \nQ 5.8125 33.546875 5.8125 39.890625 \nQ 5.8125 47.609375 11.28125 51.796875 \nQ 16.75 56 26.8125 56 \nQ 31.78125 56 36.171875 55.265625 \nQ 40.578125 54.546875 44.28125 53.078125 \nz\n\" id=\"DejaVuSans-115\"/>\n    </defs>\n    <g transform=\"translate(121.9675 16.318125)scale(0.12 -0.12)\">\n     <use xlink:href=\"#DejaVuSans-84\"/>\n     <use x=\"46.333984\" xlink:href=\"#DejaVuSans-114\"/>\n     <use x=\"87.447266\" xlink:href=\"#DejaVuSans-97\"/>\n     <use x=\"148.726562\" xlink:href=\"#DejaVuSans-105\"/>\n     <use x=\"176.509766\" xlink:href=\"#DejaVuSans-110\"/>\n     <use x=\"239.888672\" xlink:href=\"#DejaVuSans-105\"/>\n     <use x=\"267.671875\" xlink:href=\"#DejaVuSans-110\"/>\n     <use x=\"331.050781\" xlink:href=\"#DejaVuSans-103\"/>\n     <use x=\"394.527344\" xlink:href=\"#DejaVuSans-32\"/>\n     <use x=\"426.314453\" xlink:href=\"#DejaVuSans-97\"/>\n     <use x=\"487.59375\" xlink:href=\"#DejaVuSans-110\"/>\n     <use x=\"550.972656\" xlink:href=\"#DejaVuSans-100\"/>\n     <use x=\"614.449219\" xlink:href=\"#DejaVuSans-32\"/>\n     <use x=\"646.236328\" xlink:href=\"#DejaVuSans-86\"/>\n     <use x=\"706.894531\" xlink:href=\"#DejaVuSans-97\"/>\n     <use x=\"768.173828\" xlink:href=\"#DejaVuSans-108\"/>\n     <use x=\"795.957031\" xlink:href=\"#DejaVuSans-105\"/>\n     <use x=\"823.740234\" xlink:href=\"#DejaVuSans-100\"/>\n     <use x=\"887.216797\" xlink:href=\"#DejaVuSans-97\"/>\n     <use x=\"948.496094\" xlink:href=\"#DejaVuSans-116\"/>\n     <use x=\"987.705078\" xlink:href=\"#DejaVuSans-105\"/>\n     <use x=\"1015.488281\" xlink:href=\"#DejaVuSans-111\"/>\n     <use x=\"1076.669922\" xlink:href=\"#DejaVuSans-110\"/>\n     <use x=\"1140.048828\" xlink:href=\"#DejaVuSans-32\"/>\n     <use x=\"1171.835938\" xlink:href=\"#DejaVuSans-108\"/>\n     <use x=\"1199.619141\" xlink:href=\"#DejaVuSans-111\"/>\n     <use x=\"1260.800781\" xlink:href=\"#DejaVuSans-115\"/>\n     <use x=\"1312.900391\" xlink:href=\"#DejaVuSans-115\"/>\n    </g>\n   </g>\n   <g id=\"legend_1\">\n    <g id=\"patch_7\">\n     <path d=\"M 43.465625 59.674375 \nL 147.340625 59.674375 \nQ 149.340625 59.674375 149.340625 57.674375 \nL 149.340625 29.318125 \nQ 149.340625 27.318125 147.340625 27.318125 \nL 43.465625 27.318125 \nQ 41.465625 27.318125 41.465625 29.318125 \nL 41.465625 57.674375 \nQ 41.465625 59.674375 43.465625 59.674375 \nz\n\" style=\"fill:#ffffff;opacity:0.8;stroke:#cccccc;stroke-linejoin:miter;\"/>\n    </g>\n    <g id=\"line2d_17\">\n     <path d=\"M 45.465625 35.416562 \nL 65.465625 35.416562 \n\" style=\"fill:none;stroke:#0000ff;stroke-linecap:square;stroke-width:1.5;\"/>\n    </g>\n    <g id=\"line2d_18\"/>\n    <g id=\"text_16\">\n     <!-- Training loss -->\n     <g transform=\"translate(73.465625 38.916562)scale(0.1 -0.1)\">\n      <use xlink:href=\"#DejaVuSans-84\"/>\n      <use x=\"46.333984\" xlink:href=\"#DejaVuSans-114\"/>\n      <use x=\"87.447266\" xlink:href=\"#DejaVuSans-97\"/>\n      <use x=\"148.726562\" xlink:href=\"#DejaVuSans-105\"/>\n      <use x=\"176.509766\" xlink:href=\"#DejaVuSans-110\"/>\n      <use x=\"239.888672\" xlink:href=\"#DejaVuSans-105\"/>\n      <use x=\"267.671875\" xlink:href=\"#DejaVuSans-110\"/>\n      <use x=\"331.050781\" xlink:href=\"#DejaVuSans-103\"/>\n      <use x=\"394.527344\" xlink:href=\"#DejaVuSans-32\"/>\n      <use x=\"426.314453\" xlink:href=\"#DejaVuSans-108\"/>\n      <use x=\"454.097656\" xlink:href=\"#DejaVuSans-111\"/>\n      <use x=\"515.279297\" xlink:href=\"#DejaVuSans-115\"/>\n      <use x=\"567.378906\" xlink:href=\"#DejaVuSans-115\"/>\n     </g>\n    </g>\n    <g id=\"line2d_19\">\n     <path d=\"M 45.465625 50.094687 \nL 65.465625 50.094687 \n\" style=\"fill:none;stroke:#ff0000;stroke-linecap:square;stroke-width:1.5;\"/>\n    </g>\n    <g id=\"line2d_20\"/>\n    <g id=\"text_17\">\n     <!-- Validation loss -->\n     <g transform=\"translate(73.465625 53.594687)scale(0.1 -0.1)\">\n      <use xlink:href=\"#DejaVuSans-86\"/>\n      <use x=\"60.658203\" xlink:href=\"#DejaVuSans-97\"/>\n      <use x=\"121.9375\" xlink:href=\"#DejaVuSans-108\"/>\n      <use x=\"149.720703\" xlink:href=\"#DejaVuSans-105\"/>\n      <use x=\"177.503906\" xlink:href=\"#DejaVuSans-100\"/>\n      <use x=\"240.980469\" xlink:href=\"#DejaVuSans-97\"/>\n      <use x=\"302.259766\" xlink:href=\"#DejaVuSans-116\"/>\n      <use x=\"341.46875\" xlink:href=\"#DejaVuSans-105\"/>\n      <use x=\"369.251953\" xlink:href=\"#DejaVuSans-111\"/>\n      <use x=\"430.433594\" xlink:href=\"#DejaVuSans-110\"/>\n      <use x=\"493.8125\" xlink:href=\"#DejaVuSans-32\"/>\n      <use x=\"525.599609\" xlink:href=\"#DejaVuSans-108\"/>\n      <use x=\"553.382812\" xlink:href=\"#DejaVuSans-111\"/>\n      <use x=\"614.564453\" xlink:href=\"#DejaVuSans-115\"/>\n      <use x=\"666.664062\" xlink:href=\"#DejaVuSans-115\"/>\n     </g>\n    </g>\n   </g>\n  </g>\n </g>\n <defs>\n  <clipPath id=\"p020b7d6f98\">\n   <rect height=\"217.44\" width=\"334.8\" x=\"36.465625\" y=\"22.318125\"/>\n  </clipPath>\n </defs>\n</svg>\n",
      "image/png": "[encoded data removed]"
     },
     "metadata": {
      "needs_background": "light"
     }
    }
   ],
   "source": [
    "acc = results.history['accuracy']\n",
    "val_acc = results.history['val_accuracy']\n",
    "loss = results.history['loss']\n",
    "val_loss = results.history['val_loss']\n",
    "epochs = range(1, len(acc) + 1)\n",
    "\n",
    "#Train and validation accuracy\n",
    "plt.plot(epochs, acc, 'b', label='Training Accuracy')\n",
    "plt.plot(epochs, val_acc, 'r', label='Validation Accuracy')\n",
    "plt.title('Training and Validation Accuracy')\n",
    "plt.legend()\n",
    "\n",
    "plt.figure()\n",
    "#Train and validation loss\n",
    "plt.plot(epochs, loss, 'b', label='Training loss')\n",
    "plt.plot(epochs, val_loss, 'r', label='Validation loss')\n",
    "plt.title('Training and Validation Loss')\n",
    "plt.legend()\n",
    "plt.show()"
   ]
  },
  {
   "cell_type": "code",
   "execution_count": 61,
   "metadata": {},
   "outputs": [],
   "source": [
    "from keras import backend as K\n",
    "\n",
    "def recall_m(y_true, y_pred):\n",
    "    true_positives = K.sum(K.round(K.clip(y_true * y_pred, 0, 1)))\n",
    "    possible_positives = K.sum(K.round(K.clip(y_true, 0, 1)))\n",
    "    recall = true_positives / (possible_positives + K.epsilon())\n",
    "    return recall\n",
    "\n",
    "def precision_m(y_true, y_pred):\n",
    "    true_positives = K.sum(K.round(K.clip(y_true * y_pred, 0, 1)))\n",
    "    predicted_positives = K.sum(K.round(K.clip(y_pred, 0, 1)))\n",
    "    precision = true_positives / (predicted_positives + K.epsilon())\n",
    "    return precision\n",
    "\n",
    "def f1_m(y_true, y_pred):\n",
    "    precision = precision_m(y_true, y_pred)\n",
    "    recall = recall_m(y_true, y_pred)\n",
    "    return 2*((precision*recall)/(precision+recall+K.epsilon()))"
   ]
  },
  {
   "source": [
    "## Predicting on Trained Model\n",
    "- load best model\n",
    "- load the image,\n",
    "- convert image to array\n",
    "- use predict function to predict the class\n",
    "- define the entire class in an array\n",
    "\n"
   ],
   "cell_type": "markdown",
   "metadata": {}
  },
  {
   "cell_type": "code",
   "execution_count": 59,
   "metadata": {},
   "outputs": [],
   "source": [
    "from keras.preprocessing.image import img_to_array\n",
    "\n",
    "\n",
    "imgpath='/Users/Tara8082/GIT/ProjectGIT/project_5/PlantVillage/Pepper__bell___healthy/0ade14b6-8937-43ea-93eb-98343af6bae7___JR_HL 8026.JPG'\n",
    "\n",
    "default_image_size = tuple((256, 256))\n",
    "imar = convert_image_to_array(imgpath)\n",
    "npimagelist = np.array([imar], dtype=np.float16) / 225.0\n",
    "pred = model.predict(npimagelist)"
   ]
  },
  {
   "source": [
    "\n",
    "\n"
   ],
   "cell_type": "code",
   "metadata": {},
   "execution_count": null,
   "outputs": []
  },
  {
   "cell_type": "code",
   "execution_count": null,
   "metadata": {},
   "outputs": [],
   "source": []
  }
 ]
}